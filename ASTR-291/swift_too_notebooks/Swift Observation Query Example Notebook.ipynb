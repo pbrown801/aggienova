{
 "cells": [
  {
   "cell_type": "markdown",
   "metadata": {},
   "source": [
    "# `swift_too` module\n",
    "\n",
    "## Swift_ObsQuery example - querying past *Swift* observations\n",
    "\n",
    "### API version = 1.2,`swifttools` version = 2.4\n",
    "\n",
    "#### Author: Jamie A. Kennea (Penn State)\n",
    "\n",
    "The Swift_ObsQuery class allows for querying the database of observations have have already been performed by Swift, otherwise known as the \"As-Flown Science Timeline\" (AFST). Note this will only fetch observations that have already been performed, not scheduled observations. "
   ]
  },
  {
   "cell_type": "code",
   "execution_count": 49,
   "metadata": {},
   "outputs": [],
   "source": [
    "%matplotlib inline\n",
    "import matplotlib.pyplot as plt\n",
    "from swifttools.swift_too import ObsQuery\n",
    "from time import sleep\n",
    "import numpy as np"
   ]
  },
  {
   "cell_type": "markdown",
   "metadata": {},
   "source": [
    "### Constructing the query\n",
    "\n",
    "\n",
    "Note: As of `swifttools` version 2.2, you do not need to pass `username` or `shared_secret` keywords, they will default to anonymous. This is the recommended usage for anything except a `TOO` request.\n",
    "\n",
    "First example, how often has Swift observed the binary system SS 433? Well, I can't remember the RA/Dec off the top of my head, so let's look it up...\n",
    "\n",
    "#### New features in `swifttools` 2.3\n",
    "\n",
    "`swifttools` 2.3 supports a new class called `Swift_Resolve`. You can use this to do name resolution, i.e. converting the name of a target into coordinates. However, it's also built into classes that take RA/Dec now, so you can just pass it using the `name` parameters.\n",
    "\n",
    "Another new feature of 2.3, there are now shorthand names for classes, so you can omit the `Swift_` when calling the class, changing it to just `ObsQuery`."
   ]
  },
  {
   "cell_type": "code",
   "execution_count": 50,
   "metadata": {},
   "outputs": [],
   "source": [
    "query = ObsQuery()\n",
    "query.name = \"SS 433\""
   ]
  },
  {
   "cell_type": "markdown",
   "metadata": {},
   "source": [
    "Now you can see the coordinates, as either RA/Dec or `astropy`'s `SkyCoord`, using the attributes `ra`, `dec` and `skycoord` (if `astropy` is installed). For example:"
   ]
  },
  {
   "cell_type": "code",
   "execution_count": 51,
   "metadata": {},
   "outputs": [
    {
     "data": {
      "text/plain": [
       "<SkyCoord (FK5: equinox=J2000.000): (ra, dec) in deg\n",
       "    (287.95651875, 4.98272889)>"
      ]
     },
     "execution_count": 51,
     "metadata": {},
     "output_type": "execute_result"
    }
   ],
   "source": [
    "query.skycoord"
   ]
  },
  {
   "cell_type": "markdown",
   "metadata": {},
   "source": [
    "RA/Dec is stored by the TOO API in decimal degrees, in J2000 epoch as this is the epoch Swift uses"
   ]
  },
  {
   "cell_type": "code",
   "execution_count": 52,
   "metadata": {},
   "outputs": [
    {
     "name": "stdout",
     "output_type": "stream",
     "text": [
      "RA/Dec(J2000) = 287.9565, 4.9827\n"
     ]
    }
   ],
   "source": [
    "print(f\"RA/Dec(J2000) = {query.ra:.4f}, {query.dec:.4f}\")"
   ]
  },
  {
   "cell_type": "markdown",
   "metadata": {},
   "source": [
    "Looks legit. However, we can also set RA/Dec the old fashioned way"
   ]
  },
  {
   "cell_type": "code",
   "execution_count": 53,
   "metadata": {},
   "outputs": [],
   "source": [
    "query.ra, query.dec = 287.9565, 4.9827"
   ]
  },
  {
   "cell_type": "markdown",
   "metadata": {},
   "source": [
    "Note that skycoord will remain correct even if you changed the ra and dec properties."
   ]
  },
  {
   "cell_type": "code",
   "execution_count": 54,
   "metadata": {},
   "outputs": [
    {
     "data": {
      "text/plain": [
       "<SkyCoord (FK5: equinox=J2000.000): (ra, dec) in deg\n",
       "    (287.9565, 4.9827)>"
      ]
     },
     "execution_count": 54,
     "metadata": {},
     "output_type": "execute_result"
    }
   ],
   "source": [
    "query.skycoord"
   ]
  },
  {
   "cell_type": "markdown",
   "metadata": {},
   "source": [
    "\n",
    "Swift_ObsQuery has a default search radius which is...."
   ]
  },
  {
   "cell_type": "code",
   "execution_count": 55,
   "metadata": {},
   "outputs": [
    {
     "name": "stdout",
     "output_type": "stream",
     "text": [
      "Default search radius = 0.197 degrees\n"
     ]
    }
   ],
   "source": [
    "print(f\"Default search radius = {query.radius:.3f} degrees\")"
   ]
  },
  {
   "cell_type": "markdown",
   "metadata": {},
   "source": [
    "That's 12 arcminutes, which is the approximate field of view of Swift's X-ray Telescope (XRT). We can narrow that down a bit, so we only get matches that are in the center of the field of view (FOV), and also in UVOT which has a smaller FOV."
   ]
  },
  {
   "cell_type": "code",
   "execution_count": 56,
   "metadata": {},
   "outputs": [],
   "source": [
    "query.radius = 5 / 60  # 5 arc-minutes, as the units for radius are degrees"
   ]
  },
  {
   "cell_type": "markdown",
   "metadata": {},
   "source": [
    "### Submitting the query \n",
    "\n",
    "OK let's query the Swift timeline to see how many observations it's taken. This might take a few seconds to process. `query` method will return `True` if everything is OK, `False` if there is a problem. If there is a problem, simply look at the contents of the `status` attribute."
   ]
  },
  {
   "cell_type": "code",
   "execution_count": 57,
   "metadata": {},
   "outputs": [
    {
     "name": "stdout",
     "output_type": "stream",
     "text": [
      "Success!\n"
     ]
    }
   ],
   "source": [
    "if query.submit():\n",
    "    print(\"Success!\")\n",
    "else:\n",
    "    print(f\"Fail or timeout? {query.status}\")"
   ]
  },
  {
   "cell_type": "markdown",
   "metadata": {},
   "source": [
    "Looks like that worked, let's take a look at the `status` attribute anyway."
   ]
  },
  {
   "cell_type": "code",
   "execution_count": 58,
   "metadata": {},
   "outputs": [
    {
     "data": {
      "text/html": [
       "<table><thead><th style='text-align: left;'>Parameter</th><th style='text-align: left;'>Value</th></thead><tr><td style='text-align: left;'>username</td><td style='text-align: left;'>anonymous</td></tr><tr><td style='text-align: left;'>jobnumber</td><td style='text-align: left;'>876158</td></tr><tr><td style='text-align: left;'>status</td><td style='text-align: left;'>Accepted</td></tr></table>"
      ],
      "text/plain": [
       "Swift_TOO_Status(username='anonymous',jobnumber='876158')"
      ]
     },
     "execution_count": 58,
     "metadata": {},
     "output_type": "execute_result"
    }
   ],
   "source": [
    "query.status"
   ]
  },
  {
   "cell_type": "markdown",
   "metadata": {},
   "source": [
    "### Examining the results of the query\n",
    "\n",
    "So how many observations has Swift taken of this target?"
   ]
  },
  {
   "cell_type": "code",
   "execution_count": 59,
   "metadata": {},
   "outputs": [
    {
     "name": "stdout",
     "output_type": "stream",
     "text": [
      "This many: 77\n"
     ]
    }
   ],
   "source": [
    "print(f\"This many: {len(query)}\")"
   ]
  },
  {
   "cell_type": "markdown",
   "metadata": {},
   "source": [
    "That's a lot of damage. Here's a thing to remember, every entry in this is a single snapshot of observation. As Swift is in a low Earth orbit, it means that a snapshot is typically max 30 mins, or sometimes a bit longer (~44 mins), so a long exposure will consist of multiple snapshots. Observations are grouped by obsid (a 12 digit number with leading zeros), so snapshots with the same obsid are part of the same planned observation."
   ]
  },
  {
   "cell_type": "code",
   "execution_count": 60,
   "metadata": {
    "scrolled": false
   },
   "outputs": [
    {
     "data": {
      "text/html": [
       "<table><thead><th style='text-align: left;'>Begin Time</th><th style='text-align: left;'>End Time</th><th style='text-align: left;'>Target Name</th><th style='text-align: left;'>Observation Number</th><th style='text-align: left;'>Exposure (s)</th><th style='text-align: left;'>Slewtime (s)</th></thead><tr><td style='text-align: left;'>2005-07-30 13:23:02</td><td style='text-align: left;'>2005-07-30 13:27:00</td><td style='text-align: left;'>SS433</td><td style='text-align: left;'>00035190001</td><td style='text-align: left;'>95</td><td style='text-align: left;'>143</td></tr><tr><td style='text-align: left;'>2005-07-30 13:27:02</td><td style='text-align: left;'>2005-07-30 13:30:48</td><td style='text-align: left;'>SS433</td><td style='text-align: left;'>00035190002</td><td style='text-align: left;'>210</td><td style='text-align: left;'>16</td></tr><tr><td style='text-align: left;'>2005-08-01 13:36:02</td><td style='text-align: left;'>2005-08-01 13:40:00</td><td style='text-align: left;'>SS433</td><td style='text-align: left;'>00035190005</td><td style='text-align: left;'>95</td><td style='text-align: left;'>143</td></tr><tr><td style='text-align: left;'>2005-08-01 13:40:02</td><td style='text-align: left;'>2005-08-01 13:56:58</td><td style='text-align: left;'>SS433</td><td style='text-align: left;'>00035190006</td><td style='text-align: left;'>1000</td><td style='text-align: left;'>16</td></tr><tr><td style='text-align: left;'>2005-08-01 18:44:15</td><td style='text-align: left;'>2005-08-01 18:46:32</td><td style='text-align: left;'>SS433</td><td style='text-align: left;'>00035190007</td><td style='text-align: left;'>0</td><td style='text-align: left;'>137</td></tr><tr><td style='text-align: left;'>2005-08-01 18:46:35</td><td style='text-align: left;'>2005-08-01 19:08:01</td><td style='text-align: left;'>SS433</td><td style='text-align: left;'>00035190008</td><td style='text-align: left;'>1270</td><td style='text-align: left;'>16</td></tr><tr><td style='text-align: left;'>2005-08-18 00:59:02</td><td style='text-align: left;'>2005-08-18 01:14:58</td><td style='text-align: left;'>SS433</td><td style='text-align: left;'>00035190013</td><td style='text-align: left;'>870</td><td style='text-align: left;'>86</td></tr><tr><td style='text-align: left;'>2005-08-18 02:35:02</td><td style='text-align: left;'>2005-08-18 02:51:58</td><td style='text-align: left;'>SS433</td><td style='text-align: left;'>00035190013</td><td style='text-align: left;'>930</td><td style='text-align: left;'>86</td></tr><tr><td style='text-align: left;'>2006-06-30 13:45:02</td><td style='text-align: left;'>2006-06-30 13:55:00</td><td style='text-align: left;'>SS 433</td><td style='text-align: left;'>00035190014</td><td style='text-align: left;'>425</td><td style='text-align: left;'>173</td></tr><tr><td style='text-align: left;'>2006-06-30 15:19:02</td><td style='text-align: left;'>2006-06-30 15:31:00</td><td style='text-align: left;'>SS 433</td><td style='text-align: left;'>00035190014</td><td style='text-align: left;'>545</td><td style='text-align: left;'>173</td></tr><tr><td style='text-align: left;'>2006-06-30 16:56:02</td><td style='text-align: left;'>2006-06-30 17:08:00</td><td style='text-align: left;'>SS 433</td><td style='text-align: left;'>00035190014</td><td style='text-align: left;'>545</td><td style='text-align: left;'>173</td></tr><tr><td style='text-align: left;'>2006-06-30 18:32:02</td><td style='text-align: left;'>2006-06-30 18:44:00</td><td style='text-align: left;'>SS 433</td><td style='text-align: left;'>00035190014</td><td style='text-align: left;'>545</td><td style='text-align: left;'>173</td></tr><tr><td style='text-align: left;'>2006-06-30 20:09:02</td><td style='text-align: left;'>2006-06-30 20:21:00</td><td style='text-align: left;'>SS 433</td><td style='text-align: left;'>00035190014</td><td style='text-align: left;'>545</td><td style='text-align: left;'>173</td></tr><tr><td style='text-align: left;'>2006-06-30 21:45:01</td><td style='text-align: left;'>2006-06-30 21:57:00</td><td style='text-align: left;'>SS 433</td><td style='text-align: left;'>00035190014</td><td style='text-align: left;'>545</td><td style='text-align: left;'>174</td></tr><tr><td style='text-align: left;'>2006-06-30 23:22:02</td><td style='text-align: left;'>2006-06-30 23:27:00</td><td style='text-align: left;'>SS 433</td><td style='text-align: left;'>00035190014</td><td style='text-align: left;'>125</td><td style='text-align: left;'>173</td></tr><tr><td style='text-align: left;'>2006-07-01 02:34:02</td><td style='text-align: left;'>2006-07-01 02:43:56</td><td style='text-align: left;'>SS 433</td><td style='text-align: left;'>00035190015</td><td style='text-align: left;'>435</td><td style='text-align: left;'>159</td></tr><tr><td style='text-align: left;'>2006-07-01 04:11:02</td><td style='text-align: left;'>2006-07-01 04:24:56</td><td style='text-align: left;'>SS 433</td><td style='text-align: left;'>00035190015</td><td style='text-align: left;'>675</td><td style='text-align: left;'>159</td></tr><tr><td style='text-align: left;'>2006-07-01 05:47:02</td><td style='text-align: left;'>2006-07-01 05:59:01</td><td style='text-align: left;'>SS 433</td><td style='text-align: left;'>00035190015</td><td style='text-align: left;'>560</td><td style='text-align: left;'>159</td></tr><tr><td style='text-align: left;'>2006-07-01 07:24:02</td><td style='text-align: left;'>2006-07-01 07:34:58</td><td style='text-align: left;'>SS 433</td><td style='text-align: left;'>00035190015</td><td style='text-align: left;'>485</td><td style='text-align: left;'>171</td></tr><tr><td style='text-align: left;'>2006-07-01 09:00:02</td><td style='text-align: left;'>2006-07-01 09:11:57</td><td style='text-align: left;'>SS 433</td><td style='text-align: left;'>00035190015</td><td style='text-align: left;'>535</td><td style='text-align: left;'>180</td></tr><tr><td style='text-align: left;'>2006-07-01 10:36:02</td><td style='text-align: left;'>2006-07-01 10:47:57</td><td style='text-align: left;'>SS 433</td><td style='text-align: left;'>00035190015</td><td style='text-align: left;'>535</td><td style='text-align: left;'>180</td></tr><tr><td style='text-align: left;'>2006-07-01 12:13:02</td><td style='text-align: left;'>2006-07-01 12:23:58</td><td style='text-align: left;'>SS 433</td><td style='text-align: left;'>00035190015</td><td style='text-align: left;'>485</td><td style='text-align: left;'>171</td></tr><tr><td style='text-align: left;'>2006-07-01 20:15:02</td><td style='text-align: left;'>2006-07-01 20:25:58</td><td style='text-align: left;'>SS 433</td><td style='text-align: left;'>00035190015</td><td style='text-align: left;'>475</td><td style='text-align: left;'>181</td></tr><tr><td style='text-align: left;'>2006-07-01 21:51:02</td><td style='text-align: left;'>2006-07-01 22:02:57</td><td style='text-align: left;'>SS 433</td><td style='text-align: left;'>00035190015</td><td style='text-align: left;'>535</td><td style='text-align: left;'>180</td></tr><tr><td style='text-align: left;'>2006-07-02 02:41:02</td><td style='text-align: left;'>2006-07-02 02:50:58</td><td style='text-align: left;'>SS 433</td><td style='text-align: left;'>00035190015</td><td style='text-align: left;'>415</td><td style='text-align: left;'>181</td></tr><tr><td style='text-align: left;'>2006-07-02 04:17:02</td><td style='text-align: left;'>2006-07-02 04:31:57</td><td style='text-align: left;'>SS 433</td><td style='text-align: left;'>00035190015</td><td style='text-align: left;'>715</td><td style='text-align: left;'>180</td></tr><tr><td style='text-align: left;'>2006-07-02 05:53:02</td><td style='text-align: left;'>2006-07-02 06:04:57</td><td style='text-align: left;'>SS 433</td><td style='text-align: left;'>00035190015</td><td style='text-align: left;'>540</td><td style='text-align: left;'>175</td></tr><tr><td style='text-align: left;'>2006-07-02 07:30:02</td><td style='text-align: left;'>2006-07-02 07:40:57</td><td style='text-align: left;'>SS 433</td><td style='text-align: left;'>00035190015</td><td style='text-align: left;'>480</td><td style='text-align: left;'>175</td></tr><tr><td style='text-align: left;'>2006-07-02 09:06:02</td><td style='text-align: left;'>2006-07-02 09:16:57</td><td style='text-align: left;'>SS 433</td><td style='text-align: left;'>00035190015</td><td style='text-align: left;'>480</td><td style='text-align: left;'>175</td></tr><tr><td style='text-align: left;'>2006-07-02 10:43:02</td><td style='text-align: left;'>2006-07-02 10:53:56</td><td style='text-align: left;'>SS 433</td><td style='text-align: left;'>00035190015</td><td style='text-align: left;'>480</td><td style='text-align: left;'>174</td></tr><tr><td style='text-align: left;'>2006-11-03 18:42:58</td><td style='text-align: left;'>2006-11-03 18:46:57</td><td style='text-align: left;'>SS433</td><td style='text-align: left;'>00035190016</td><td style='text-align: left;'>20</td><td style='text-align: left;'>219</td></tr><tr><td style='text-align: left;'>2006-11-03 19:06:02</td><td style='text-align: left;'>2006-11-03 19:28:25</td><td style='text-align: left;'>SS433</td><td style='text-align: left;'>00035190016</td><td style='text-align: left;'>1285</td><td style='text-align: left;'>58</td></tr><tr><td style='text-align: left;'>2006-11-03 20:19:35</td><td style='text-align: left;'>2006-11-03 21:04:35</td><td style='text-align: left;'>SS433</td><td style='text-align: left;'>00035190016</td><td style='text-align: left;'>2481</td><td style='text-align: left;'>219</td></tr><tr><td style='text-align: left;'>2006-11-03 21:55:59</td><td style='text-align: left;'>2006-11-03 22:20:08</td><td style='text-align: left;'>SS433</td><td style='text-align: left;'>00035190016</td><td style='text-align: left;'>1230</td><td style='text-align: left;'>219</td></tr><tr><td style='text-align: left;'>2007-09-12 13:31:01</td><td style='text-align: left;'>2007-09-12 13:45:59</td><td style='text-align: left;'>SS433</td><td style='text-align: left;'>00035190020</td><td style='text-align: left;'>785</td><td style='text-align: left;'>113</td></tr><tr><td style='text-align: left;'>2007-09-13 13:37:01</td><td style='text-align: left;'>2007-09-13 13:47:58</td><td style='text-align: left;'>SS433</td><td style='text-align: left;'>00035190021</td><td style='text-align: left;'>535</td><td style='text-align: left;'>122</td></tr><tr><td style='text-align: left;'>2007-09-14 13:37:01</td><td style='text-align: left;'>2007-09-14 13:52:00</td><td style='text-align: left;'>SS433</td><td style='text-align: left;'>00035190022</td><td style='text-align: left;'>790</td><td style='text-align: left;'>109</td></tr><tr><td style='text-align: left;'>2007-09-15 01:02:01</td><td style='text-align: left;'>2007-09-15 01:15:56</td><td style='text-align: left;'>SS433</td><td style='text-align: left;'>00035190023</td><td style='text-align: left;'>785</td><td style='text-align: left;'>50</td></tr><tr><td style='text-align: left;'>2007-09-16 17:11:01</td><td style='text-align: left;'>2007-09-16 17:23:57</td><td style='text-align: left;'>SS433</td><td style='text-align: left;'>00035190023</td><td style='text-align: left;'>725</td><td style='text-align: left;'>51</td></tr><tr><td style='text-align: left;'>2007-09-27 21:17:01</td><td style='text-align: left;'>2007-09-27 21:34:58</td><td style='text-align: left;'>SS433</td><td style='text-align: left;'>00035190025</td><td style='text-align: left;'>995</td><td style='text-align: left;'>82</td></tr><tr><td style='text-align: left;'>2012-10-15 23:45:20</td><td style='text-align: left;'>2012-10-16 00:03:22</td><td style='text-align: left;'>SS433</td><td style='text-align: left;'>00035190026</td><td style='text-align: left;'>1000</td><td style='text-align: left;'>82</td></tr><tr><td style='text-align: left;'>2014-07-28 14:26:50</td><td style='text-align: left;'>2014-07-28 14:32:27</td><td style='text-align: left;'>SS433</td><td style='text-align: left;'>00035190027</td><td style='text-align: left;'>185</td><td style='text-align: left;'>152</td></tr><tr><td style='text-align: left;'>2014-07-28 15:24:35</td><td style='text-align: left;'>2014-07-28 15:56:23</td><td style='text-align: left;'>SS433</td><td style='text-align: left;'>00035190027</td><td style='text-align: left;'>1810</td><td style='text-align: left;'>98</td></tr><tr><td style='text-align: left;'>2014-09-26 07:20:47</td><td style='text-align: left;'>2014-09-26 07:25:58</td><td style='text-align: left;'>SS433</td><td style='text-align: left;'>00035190028</td><td style='text-align: left;'>185</td><td style='text-align: left;'>126</td></tr><tr><td style='text-align: left;'>2014-09-26 08:33:02</td><td style='text-align: left;'>2014-09-26 08:45:57</td><td style='text-align: left;'>SS433</td><td style='text-align: left;'>00035190028</td><td style='text-align: left;'>655</td><td style='text-align: left;'>120</td></tr><tr><td style='text-align: left;'>2014-09-26 10:14:02</td><td style='text-align: left;'>2014-09-26 10:18:32</td><td style='text-align: left;'>SS433</td><td style='text-align: left;'>00035190028</td><td style='text-align: left;'>150</td><td style='text-align: left;'>120</td></tr><tr><td style='text-align: left;'>2014-10-01 18:00:02</td><td style='text-align: left;'>2014-10-01 18:14:00</td><td style='text-align: left;'>SS433</td><td style='text-align: left;'>00035190030</td><td style='text-align: left;'>745</td><td style='text-align: left;'>93</td></tr><tr><td style='text-align: left;'>2014-10-03 13:10:02</td><td style='text-align: left;'>2014-10-03 13:26:59</td><td style='text-align: left;'>SS433</td><td style='text-align: left;'>00035190031</td><td style='text-align: left;'>845</td><td style='text-align: left;'>172</td></tr><tr><td style='text-align: left;'>2014-10-04 03:33:02</td><td style='text-align: left;'>2014-10-04 03:46:57</td><td style='text-align: left;'>SS433</td><td style='text-align: left;'>00080803001</td><td style='text-align: left;'>740</td><td style='text-align: left;'>95</td></tr><tr><td style='text-align: left;'>2014-10-04 08:18:02</td><td style='text-align: left;'>2014-10-04 08:34:57</td><td style='text-align: left;'>SS433</td><td style='text-align: left;'>00080803001</td><td style='text-align: left;'>865</td><td style='text-align: left;'>150</td></tr><tr><td style='text-align: left;'>2014-10-04 13:07:02</td><td style='text-align: left;'>2014-10-04 13:16:57</td><td style='text-align: left;'>SS433</td><td style='text-align: left;'>00080803001</td><td style='text-align: left;'>490</td><td style='text-align: left;'>105</td></tr><tr><td style='text-align: left;'>2014-10-05 13:18:09</td><td style='text-align: left;'>2014-10-05 13:33:57</td><td style='text-align: left;'>SS433</td><td style='text-align: left;'>00035190032</td><td style='text-align: left;'>880</td><td style='text-align: left;'>68</td></tr><tr><td style='text-align: left;'>2014-10-07 00:24:02</td><td style='text-align: left;'>2014-10-07 00:40:59</td><td style='text-align: left;'>SS433</td><td style='text-align: left;'>00035190033</td><td style='text-align: left;'>870</td><td style='text-align: left;'>147</td></tr><tr><td style='text-align: left;'>2014-10-09 00:12:02</td><td style='text-align: left;'>2014-10-09 00:28:59</td><td style='text-align: left;'>SS433</td><td style='text-align: left;'>00035190034</td><td style='text-align: left;'>935</td><td style='text-align: left;'>82</td></tr><tr><td style='text-align: left;'>2014-10-17 04:47:02</td><td style='text-align: left;'>2014-10-17 04:59:57</td><td style='text-align: left;'>SS433</td><td style='text-align: left;'>00080803002</td><td style='text-align: left;'>655</td><td style='text-align: left;'>120</td></tr><tr><td style='text-align: left;'>2014-10-17 06:34:02</td><td style='text-align: left;'>2014-10-17 06:52:41</td><td style='text-align: left;'>SS433</td><td style='text-align: left;'>00080803002</td><td style='text-align: left;'>1015</td><td style='text-align: left;'>104</td></tr><tr><td style='text-align: left;'>2014-10-17 14:52:02</td><td style='text-align: left;'>2014-10-17 15:02:57</td><td style='text-align: left;'>SS433</td><td style='text-align: left;'>00080803002</td><td style='text-align: left;'>510</td><td style='text-align: left;'>145</td></tr><tr><td style='text-align: left;'>2014-10-30 16:06:02</td><td style='text-align: left;'>2014-10-30 16:24:58</td><td style='text-align: left;'>SS433</td><td style='text-align: left;'>00080803003</td><td style='text-align: left;'>1070</td><td style='text-align: left;'>66</td></tr><tr><td style='text-align: left;'>2014-10-30 17:46:02</td><td style='text-align: left;'>2014-10-30 18:00:58</td><td style='text-align: left;'>SS433</td><td style='text-align: left;'>00080803003</td><td style='text-align: left;'>830</td><td style='text-align: left;'>66</td></tr><tr><td style='text-align: left;'>2014-11-12 20:14:02</td><td style='text-align: left;'>2014-11-12 20:35:59</td><td style='text-align: left;'>SS433</td><td style='text-align: left;'>00080803004</td><td style='text-align: left;'>1170</td><td style='text-align: left;'>147</td></tr><tr><td style='text-align: left;'>2014-11-12 21:50:02</td><td style='text-align: left;'>2014-11-12 22:08:59</td><td style='text-align: left;'>SS433</td><td style='text-align: left;'>00080803004</td><td style='text-align: left;'>960</td><td style='text-align: left;'>177</td></tr><tr><td style='text-align: left;'>2014-11-25 11:56:02</td><td style='text-align: left;'>2014-11-25 12:25:58</td><td style='text-align: left;'>SS433</td><td style='text-align: left;'>00080803005</td><td style='text-align: left;'>1585</td><td style='text-align: left;'>211</td></tr><tr><td style='text-align: left;'>2014-11-25 13:32:02</td><td style='text-align: left;'>2014-11-25 13:41:58</td><td style='text-align: left;'>SS433</td><td style='text-align: left;'>00080803005</td><td style='text-align: left;'>445</td><td style='text-align: left;'>151</td></tr><tr><td style='text-align: left;'>2015-02-24 23:17:02</td><td style='text-align: left;'>2015-02-24 23:46:58</td><td style='text-align: left;'>SS433</td><td style='text-align: left;'>00080803006</td><td style='text-align: left;'>1655</td><td style='text-align: left;'>141</td></tr><tr><td style='text-align: left;'>2015-03-11 05:28:01</td><td style='text-align: left;'>2015-03-11 05:47:00</td><td style='text-align: left;'>SS433</td><td style='text-align: left;'>00080803008</td><td style='text-align: left;'>1055</td><td style='text-align: left;'>84</td></tr><tr><td style='text-align: left;'>2015-03-11 07:05:02</td><td style='text-align: left;'>2015-03-11 07:21:59</td><td style='text-align: left;'>SS433</td><td style='text-align: left;'>00080803008</td><td style='text-align: left;'>925</td><td style='text-align: left;'>92</td></tr><tr><td style='text-align: left;'>2015-03-23 22:11:02</td><td style='text-align: left;'>2015-03-23 22:29:57</td><td style='text-align: left;'>SS433</td><td style='text-align: left;'>00080803009</td><td style='text-align: left;'>1055</td><td style='text-align: left;'>80</td></tr><tr><td style='text-align: left;'>2015-03-23 23:44:02</td><td style='text-align: left;'>2015-03-23 23:59:56</td><td style='text-align: left;'>SS433</td><td style='text-align: left;'>00080803009</td><td style='text-align: left;'>875</td><td style='text-align: left;'>79</td></tr><tr><td style='text-align: left;'>2015-04-18 19:22:02</td><td style='text-align: left;'>2015-04-18 19:51:57</td><td style='text-align: left;'>SS433</td><td style='text-align: left;'>00080803010</td><td style='text-align: left;'>1675</td><td style='text-align: left;'>120</td></tr><tr><td style='text-align: left;'>2015-04-18 21:07:10</td><td style='text-align: left;'>2015-04-18 21:10:29</td><td style='text-align: left;'>SS433</td><td style='text-align: left;'>00080803010</td><td style='text-align: left;'>0</td><td style='text-align: left;'>199</td></tr><tr><td style='text-align: left;'>2015-06-22 22:47:02</td><td style='text-align: left;'>2015-06-22 23:06:59</td><td style='text-align: left;'>SS433</td><td style='text-align: left;'>00035190035</td><td style='text-align: left;'>1135</td><td style='text-align: left;'>62</td></tr><tr><td style='text-align: left;'>2015-07-05 08:54:02</td><td style='text-align: left;'>2015-07-05 08:55:50</td><td style='text-align: left;'>SS433</td><td style='text-align: left;'>00080803011</td><td style='text-align: left;'>15</td><td style='text-align: left;'>93</td></tr><tr><td style='text-align: left;'>2015-07-05 10:49:02</td><td style='text-align: left;'>2015-07-05 11:09:59</td><td style='text-align: left;'>SS433</td><td style='text-align: left;'>00080803011</td><td style='text-align: left;'>1205</td><td style='text-align: left;'>52</td></tr><tr><td style='text-align: left;'>2018-07-25 07:17:02</td><td style='text-align: left;'>2018-07-25 07:24:59</td><td style='text-align: left;'>SS433</td><td style='text-align: left;'>00035190036</td><td style='text-align: left;'>355</td><td style='text-align: left;'>122</td></tr><tr><td style='text-align: left;'>2018-07-25 16:48:02</td><td style='text-align: left;'>2018-07-25 17:00:58</td><td style='text-align: left;'>SS433</td><td style='text-align: left;'>00035190036</td><td style='text-align: left;'>680</td><td style='text-align: left;'>96</td></tr><tr><td style='text-align: left;'>2018-08-29 10:43:02</td><td style='text-align: left;'>2018-08-29 10:50:59</td><td style='text-align: left;'>SS433</td><td style='text-align: left;'>00035190037</td><td style='text-align: left;'>395</td><td style='text-align: left;'>82</td></tr><tr><td style='text-align: left;'>2018-08-29 23:31:01</td><td style='text-align: left;'>2018-08-29 23:45:57</td><td style='text-align: left;'>SS433</td><td style='text-align: left;'>00035190037</td><td style='text-align: left;'>805</td><td style='text-align: left;'>91</td></tr></table>"
      ],
      "text/plain": [
       "Swift_AFST(username='anonymous',ra='287.9565',dec='4.9827',radius='0.08333333333333333')"
      ]
     },
     "execution_count": 60,
     "metadata": {},
     "output_type": "execute_result"
    }
   ],
   "source": [
    "query"
   ]
  },
  {
   "cell_type": "markdown",
   "metadata": {},
   "source": [
    "Wow that is a lot of observations. "
   ]
  },
  {
   "cell_type": "markdown",
   "metadata": {},
   "source": [
    "### Pointing Accuracy\n",
    "\n",
    "Here's an interesting thing about Swift, it doesn't point very accurately. This is because the ACS system sacrifices accuracy for speed. The goal is to get the object of interest into the field of view of XRT and UVOT, not at the boresight. As a result, the pointing direction be typically up to 3 arcminutes off the requested pointing direction. Note that for each entry listed above, we give an ra and dec value, so let's check out the variation:"
   ]
  },
  {
   "cell_type": "code",
   "execution_count": 61,
   "metadata": {},
   "outputs": [
    {
     "data": {
      "image/png": "[encoded data removed]",
      "text/plain": [
       "<Figure size 640x480 with 1 Axes>"
      ]
     },
     "metadata": {},
     "output_type": "display_data"
    }
   ],
   "source": [
    "plt.figure()\n",
    "plt.plot(\n",
    "    [float(entry.ra) for entry in query], [float(entry.dec) for entry in query], \"+\"\n",
    ")\n",
    "plt.plot(\n",
    "    [entry.ra_object for entry in query], [entry.dec_object for entry in query], \"X\"\n",
    ")\n",
    "plt.xlabel(\"RA(J2000)\")\n",
    "plt.ylabel(\"Dec(J2000)\")\n",
    "_ = plt.title(f\"{query.name} pointing scatter\")"
   ]
  },
  {
   "cell_type": "markdown",
   "metadata": {},
   "source": [
    "As you can see there's a lot of variation of the pointing direction. Each entry also has a values `ra_object`, `dec_object`, which give the decimal degrees values of the requested pointing direction for each observation. This typically will be the coordinates of the Target of the Observation, but sometimes if offsets are applied for any reason, it might differ.\n",
    "\n",
    "The `ra_object`/`dec_object` values aren't necessarily going to be for the object you queried on. In fact there can be multiple values of ra_point/dec_point if the queried field lies inside multiple pointings.\n",
    "\n",
    "Although the RA/Dec are returned in J2000 decimal degrees, they're also returned as skycoords. However, `ra_object` and `dec_object` are not so we will have to convert those to SkyCoords manually."
   ]
  },
  {
   "cell_type": "code",
   "execution_count": 62,
   "metadata": {},
   "outputs": [
    {
     "data": {
      "text/plain": [
       "<SkyCoord (FK5: equinox=J2000.000): (ra, dec) in deg\n",
       "    (287.994, 4.972)>"
      ]
     },
     "execution_count": 62,
     "metadata": {},
     "output_type": "execute_result"
    }
   ],
   "source": [
    "query[0].skycoord"
   ]
  },
  {
   "cell_type": "markdown",
   "metadata": {},
   "source": [
    "Sometimes `ra_object`, `dec_object` cannot be determined, so the value will be 'None'. I'm going to filter those out so we can do some comparing."
   ]
  },
  {
   "cell_type": "code",
   "execution_count": 63,
   "metadata": {},
   "outputs": [],
   "source": [
    "from astropy.coordinates import SkyCoord\n",
    "import astropy.units as u\n",
    "\n",
    "sc = SkyCoord([entry.skycoord for entry in query if entry.ra_point != None])\n",
    "scp = SkyCoord(\n",
    "    [entry.ra_point for entry in query if entry.ra_point != None],\n",
    "    [entry.dec_point for entry in query if entry.ra_point != None],\n",
    "    frame=\"fk5\",\n",
    "    unit=(u.deg, u.deg),\n",
    ")"
   ]
  },
  {
   "cell_type": "markdown",
   "metadata": {},
   "source": [
    "I made an array of ra_point/dec_point so we can evaluate how accurately Swift actually pointed at this target. Let's make a histogram of the pointing offsets."
   ]
  },
  {
   "cell_type": "code",
   "execution_count": 64,
   "metadata": {},
   "outputs": [
    {
     "name": "stdout",
     "output_type": "stream",
     "text": [
      "Median offset value = 2.17 arc-minutes\n"
     ]
    },
    {
     "data": {
      "image/png": "[encoded data removed]",
      "text/plain": [
       "<Figure size 640x480 with 1 Axes>"
      ]
     },
     "metadata": {},
     "output_type": "display_data"
    }
   ],
   "source": [
    "plt.figure()\n",
    "plt.hist(sc.separation(scp).arcmin, bins=30)\n",
    "plt.ylabel(\"Number of pointings\")\n",
    "plt.xlabel(\"Offset from requested pointing direction (arc-minutes)\")\n",
    "print(f\"Median offset value = {np.median(sc.separation(scp).arcmin):0.2f} arc-minutes\")"
   ]
  },
  {
   "cell_type": "markdown",
   "metadata": {},
   "source": [
    "So you'll see that the median offset here is around 2 arc-minutes, with a pretty big scatter, and there may even be some large outliers. \n"
   ]
  },
  {
   "cell_type": "markdown",
   "metadata": {},
   "source": [
    "### Grouping Snapshots into Observations \n",
    "\n",
    "Let's take a look at an individual entry to see what information is being returned by this query."
   ]
  },
  {
   "cell_type": "code",
   "execution_count": 65,
   "metadata": {},
   "outputs": [
    {
     "data": {
      "text/html": [
       "<table><thead><th style='text-align: left;'>Begin Time</th><th style='text-align: left;'>End Time</th><th style='text-align: left;'>Target Name</th><th style='text-align: left;'>Observation Number</th><th style='text-align: left;'>Exposure (s)</th><th style='text-align: left;'>Slewtime (s)</th></thead><tr><td style='text-align: left;'>2005-07-30 13:23:02</td><td style='text-align: left;'>2005-07-30 13:27:00</td><td style='text-align: left;'>SS433</td><td style='text-align: left;'>00035190001</td><td style='text-align: left;'>95</td><td style='text-align: left;'>143</td></tr></table>"
      ],
      "text/plain": [
       "Swift_AFSTEntry()"
      ]
     },
     "execution_count": 65,
     "metadata": {},
     "output_type": "execute_result"
    }
   ],
   "source": [
    "query[0]"
   ]
  },
  {
   "cell_type": "markdown",
   "metadata": {},
   "source": [
    "So some useful information here. Firstly remember each entry represents a snapshot of Swift data, that is data taken in a single orbit of observations. Typically data that you obtain from the SDC will be grouped by observation, and those observations can contain many snapshots. Observations have a unique target ID (target ID) and segment (seg) numbers. These typically are combined into a Observation Number (obsnum), which in the SDC format will look like a concatibation of the target ID, and segment, with padding zeros, e.g.:"
   ]
  },
  {
   "cell_type": "code",
   "execution_count": 66,
   "metadata": {},
   "outputs": [
    {
     "name": "stdout",
     "output_type": "stream",
     "text": [
      "Target ID = 35190, segment = 1, ObservationID = 00035190001\n"
     ]
    }
   ],
   "source": [
    "print(\n",
    "    f\"Target ID = {query[0].targetid}, segment = {query[0].seg}, ObservationID = {query[0].obsnum}\"\n",
    ")"
   ]
  },
  {
   "cell_type": "markdown",
   "metadata": {},
   "source": [
    "If you're interested in all the observations under a particular Observation ID, then there's a property called \"observations\" that contains a dictionary of all observations on an Observation ID basis. Let's look at the summary of this dictionary by just printing out all the entries."
   ]
  },
  {
   "cell_type": "code",
   "execution_count": 67,
   "metadata": {},
   "outputs": [
    {
     "data": {
      "text/html": [
       "<table><thead><th style='text-align: left;'>Begin Time</th><th style='text-align: left;'>End Time</th><th style='text-align: left;'>Target Name</th><th style='text-align: left;'>Observation Number</th><th style='text-align: left;'>Exposure (s)</th><th style='text-align: left;'>Slewtime (s)</th></thead><tr><td style='text-align: left;'>2005-07-30 13:23:02</td><td style='text-align: left;'>2005-07-30 13:27:00</td><td style='text-align: left;'>SS433</td><td style='text-align: left;'>00035190001</td><td style='text-align: left;'>95</td><td style='text-align: left;'>143</td></tr><tr><td style='text-align: left;'>2005-07-30 13:27:02</td><td style='text-align: left;'>2005-07-30 13:30:48</td><td style='text-align: left;'>SS433</td><td style='text-align: left;'>00035190002</td><td style='text-align: left;'>210</td><td style='text-align: left;'>16</td></tr><tr><td style='text-align: left;'>2005-08-01 13:36:02</td><td style='text-align: left;'>2005-08-01 13:40:00</td><td style='text-align: left;'>SS433</td><td style='text-align: left;'>00035190005</td><td style='text-align: left;'>95</td><td style='text-align: left;'>143</td></tr><tr><td style='text-align: left;'>2005-08-01 13:40:02</td><td style='text-align: left;'>2005-08-01 13:56:58</td><td style='text-align: left;'>SS433</td><td style='text-align: left;'>00035190006</td><td style='text-align: left;'>1000</td><td style='text-align: left;'>16</td></tr><tr><td style='text-align: left;'>2005-08-01 18:44:15</td><td style='text-align: left;'>2005-08-01 18:46:32</td><td style='text-align: left;'>SS433</td><td style='text-align: left;'>00035190007</td><td style='text-align: left;'>0</td><td style='text-align: left;'>137</td></tr><tr><td style='text-align: left;'>2005-08-01 18:46:35</td><td style='text-align: left;'>2005-08-01 19:08:01</td><td style='text-align: left;'>SS433</td><td style='text-align: left;'>00035190008</td><td style='text-align: left;'>1270</td><td style='text-align: left;'>16</td></tr><tr><td style='text-align: left;'>2005-08-18 00:59:02</td><td style='text-align: left;'>2005-08-18 02:51:58</td><td style='text-align: left;'>SS433</td><td style='text-align: left;'>00035190013</td><td style='text-align: left;'>1800</td><td style='text-align: left;'>172</td></tr><tr><td style='text-align: left;'>2006-06-30 13:45:02</td><td style='text-align: left;'>2006-06-30 23:27:00</td><td style='text-align: left;'>SS 433</td><td style='text-align: left;'>00035190014</td><td style='text-align: left;'>3275</td><td style='text-align: left;'>1212</td></tr><tr><td style='text-align: left;'>2006-07-01 02:34:02</td><td style='text-align: left;'>2006-07-02 10:53:56</td><td style='text-align: left;'>SS 433</td><td style='text-align: left;'>00035190015</td><td style='text-align: left;'>7830</td><td style='text-align: left;'>2600</td></tr><tr><td style='text-align: left;'>2006-11-03 18:42:58</td><td style='text-align: left;'>2006-11-03 22:20:08</td><td style='text-align: left;'>SS433</td><td style='text-align: left;'>00035190016</td><td style='text-align: left;'>5016</td><td style='text-align: left;'>715</td></tr><tr><td style='text-align: left;'>2007-09-12 13:31:01</td><td style='text-align: left;'>2007-09-12 13:45:59</td><td style='text-align: left;'>SS433</td><td style='text-align: left;'>00035190020</td><td style='text-align: left;'>785</td><td style='text-align: left;'>113</td></tr><tr><td style='text-align: left;'>2007-09-13 13:37:01</td><td style='text-align: left;'>2007-09-13 13:47:58</td><td style='text-align: left;'>SS433</td><td style='text-align: left;'>00035190021</td><td style='text-align: left;'>535</td><td style='text-align: left;'>122</td></tr><tr><td style='text-align: left;'>2007-09-14 13:37:01</td><td style='text-align: left;'>2007-09-14 13:52:00</td><td style='text-align: left;'>SS433</td><td style='text-align: left;'>00035190022</td><td style='text-align: left;'>790</td><td style='text-align: left;'>109</td></tr><tr><td style='text-align: left;'>2007-09-15 01:02:01</td><td style='text-align: left;'>2007-09-16 17:23:57</td><td style='text-align: left;'>SS433</td><td style='text-align: left;'>00035190023</td><td style='text-align: left;'>1510</td><td style='text-align: left;'>101</td></tr><tr><td style='text-align: left;'>2007-09-27 21:17:01</td><td style='text-align: left;'>2007-09-27 21:34:58</td><td style='text-align: left;'>SS433</td><td style='text-align: left;'>00035190025</td><td style='text-align: left;'>995</td><td style='text-align: left;'>82</td></tr><tr><td style='text-align: left;'>2012-10-15 23:45:20</td><td style='text-align: left;'>2012-10-16 00:03:22</td><td style='text-align: left;'>SS433</td><td style='text-align: left;'>00035190026</td><td style='text-align: left;'>1000</td><td style='text-align: left;'>82</td></tr><tr><td style='text-align: left;'>2014-07-28 14:26:50</td><td style='text-align: left;'>2014-07-28 15:56:23</td><td style='text-align: left;'>SS433</td><td style='text-align: left;'>00035190027</td><td style='text-align: left;'>1995</td><td style='text-align: left;'>250</td></tr><tr><td style='text-align: left;'>2014-09-26 07:20:47</td><td style='text-align: left;'>2014-09-26 10:18:32</td><td style='text-align: left;'>SS433</td><td style='text-align: left;'>00035190028</td><td style='text-align: left;'>990</td><td style='text-align: left;'>366</td></tr><tr><td style='text-align: left;'>2014-10-01 18:00:02</td><td style='text-align: left;'>2014-10-01 18:14:00</td><td style='text-align: left;'>SS433</td><td style='text-align: left;'>00035190030</td><td style='text-align: left;'>745</td><td style='text-align: left;'>93</td></tr><tr><td style='text-align: left;'>2014-10-03 13:10:02</td><td style='text-align: left;'>2014-10-03 13:26:59</td><td style='text-align: left;'>SS433</td><td style='text-align: left;'>00035190031</td><td style='text-align: left;'>845</td><td style='text-align: left;'>172</td></tr><tr><td style='text-align: left;'>2014-10-04 03:33:02</td><td style='text-align: left;'>2014-10-04 13:16:57</td><td style='text-align: left;'>SS433</td><td style='text-align: left;'>00080803001</td><td style='text-align: left;'>2095</td><td style='text-align: left;'>350</td></tr><tr><td style='text-align: left;'>2014-10-05 13:18:09</td><td style='text-align: left;'>2014-10-05 13:33:57</td><td style='text-align: left;'>SS433</td><td style='text-align: left;'>00035190032</td><td style='text-align: left;'>880</td><td style='text-align: left;'>68</td></tr><tr><td style='text-align: left;'>2014-10-07 00:24:02</td><td style='text-align: left;'>2014-10-07 00:40:59</td><td style='text-align: left;'>SS433</td><td style='text-align: left;'>00035190033</td><td style='text-align: left;'>870</td><td style='text-align: left;'>147</td></tr><tr><td style='text-align: left;'>2014-10-09 00:12:02</td><td style='text-align: left;'>2014-10-09 00:28:59</td><td style='text-align: left;'>SS433</td><td style='text-align: left;'>00035190034</td><td style='text-align: left;'>935</td><td style='text-align: left;'>82</td></tr><tr><td style='text-align: left;'>2014-10-17 04:47:02</td><td style='text-align: left;'>2014-10-17 15:02:57</td><td style='text-align: left;'>SS433</td><td style='text-align: left;'>00080803002</td><td style='text-align: left;'>2180</td><td style='text-align: left;'>369</td></tr><tr><td style='text-align: left;'>2014-10-30 16:06:02</td><td style='text-align: left;'>2014-10-30 18:00:58</td><td style='text-align: left;'>SS433</td><td style='text-align: left;'>00080803003</td><td style='text-align: left;'>1900</td><td style='text-align: left;'>132</td></tr><tr><td style='text-align: left;'>2014-11-12 20:14:02</td><td style='text-align: left;'>2014-11-12 22:08:59</td><td style='text-align: left;'>SS433</td><td style='text-align: left;'>00080803004</td><td style='text-align: left;'>2130</td><td style='text-align: left;'>324</td></tr><tr><td style='text-align: left;'>2014-11-25 11:56:02</td><td style='text-align: left;'>2014-11-25 13:41:58</td><td style='text-align: left;'>SS433</td><td style='text-align: left;'>00080803005</td><td style='text-align: left;'>2030</td><td style='text-align: left;'>362</td></tr><tr><td style='text-align: left;'>2015-02-24 23:17:02</td><td style='text-align: left;'>2015-02-24 23:46:58</td><td style='text-align: left;'>SS433</td><td style='text-align: left;'>00080803006</td><td style='text-align: left;'>1655</td><td style='text-align: left;'>141</td></tr><tr><td style='text-align: left;'>2015-03-11 05:28:01</td><td style='text-align: left;'>2015-03-11 07:21:59</td><td style='text-align: left;'>SS433</td><td style='text-align: left;'>00080803008</td><td style='text-align: left;'>1980</td><td style='text-align: left;'>176</td></tr><tr><td style='text-align: left;'>2015-03-23 22:11:02</td><td style='text-align: left;'>2015-03-23 23:59:56</td><td style='text-align: left;'>SS433</td><td style='text-align: left;'>00080803009</td><td style='text-align: left;'>1930</td><td style='text-align: left;'>159</td></tr><tr><td style='text-align: left;'>2015-04-18 19:22:02</td><td style='text-align: left;'>2015-04-18 21:10:29</td><td style='text-align: left;'>SS433</td><td style='text-align: left;'>00080803010</td><td style='text-align: left;'>1675</td><td style='text-align: left;'>319</td></tr><tr><td style='text-align: left;'>2015-06-22 22:47:02</td><td style='text-align: left;'>2015-06-22 23:06:59</td><td style='text-align: left;'>SS433</td><td style='text-align: left;'>00035190035</td><td style='text-align: left;'>1135</td><td style='text-align: left;'>62</td></tr><tr><td style='text-align: left;'>2015-07-05 08:54:02</td><td style='text-align: left;'>2015-07-05 11:09:59</td><td style='text-align: left;'>SS433</td><td style='text-align: left;'>00080803011</td><td style='text-align: left;'>1220</td><td style='text-align: left;'>145</td></tr><tr><td style='text-align: left;'>2018-07-25 07:17:02</td><td style='text-align: left;'>2018-07-25 17:00:58</td><td style='text-align: left;'>SS433</td><td style='text-align: left;'>00035190036</td><td style='text-align: left;'>1035</td><td style='text-align: left;'>218</td></tr><tr><td style='text-align: left;'>2018-08-29 10:43:02</td><td style='text-align: left;'>2018-08-29 23:45:57</td><td style='text-align: left;'>SS433</td><td style='text-align: left;'>00035190037</td><td style='text-align: left;'>1200</td><td style='text-align: left;'>173</td></tr></table>"
      ],
      "text/plain": [
       "{'00035190001': Swift_Observation(begin='2005-07-30 13:23:02',end='2005-07-30 13:27:00',targname='SS433',targetid='35190',seg='1',ra_object='287.9565',dec_object='4.982667',xrt='Auto',uvot='0x000a',bat='0x0000',entries='+---------------------+---------------------+-------------+--------------------+--------------+--------------+\n",
       " |          Begin Time |            End Time | Target Name | Observation Number | Exposure (s) | Slewtime (s) |\n",
       " +---------------------+---------------------+-------------+--------------------+--------------+--------------+\n",
       " | 2005-07-30 13:23:02 | 2005-07-30 13:27:00 |       SS433 |        00035190001 |           95 |          143 |\n",
       " +---------------------+---------------------+-------------+--------------------+--------------+--------------+'),\n",
       " '00035190002': Swift_Observation(begin='2005-07-30 13:27:02',end='2005-07-30 13:30:48',targname='SS433',targetid='35190',seg='2',ra_object='287.9565',dec_object='4.982667',xrt='Auto',uvot='0x1159',bat='0x0000',entries='+---------------------+---------------------+-------------+--------------------+--------------+--------------+\n",
       " |          Begin Time |            End Time | Target Name | Observation Number | Exposure (s) | Slewtime (s) |\n",
       " +---------------------+---------------------+-------------+--------------------+--------------+--------------+\n",
       " | 2005-07-30 13:27:02 | 2005-07-30 13:30:48 |       SS433 |        00035190002 |          210 |           16 |\n",
       " +---------------------+---------------------+-------------+--------------------+--------------+--------------+'),\n",
       " '00035190005': Swift_Observation(begin='2005-08-01 13:36:02',end='2005-08-01 13:40:00',targname='SS433',targetid='35190',seg='5',ra_object='287.9565',dec_object='4.982667',xrt='Auto',uvot='0x000a',bat='0x0000',entries='+---------------------+---------------------+-------------+--------------------+--------------+--------------+\n",
       " |          Begin Time |            End Time | Target Name | Observation Number | Exposure (s) | Slewtime (s) |\n",
       " +---------------------+---------------------+-------------+--------------------+--------------+--------------+\n",
       " | 2005-08-01 13:36:02 | 2005-08-01 13:40:00 |       SS433 |        00035190005 |           95 |          143 |\n",
       " +---------------------+---------------------+-------------+--------------------+--------------+--------------+'),\n",
       " '00035190006': Swift_Observation(begin='2005-08-01 13:40:02',end='2005-08-01 13:56:58',targname='SS433',targetid='35190',seg='6',ra_object='287.9565',dec_object='4.982667',xrt='Auto',uvot='0x1159',bat='0x0000',entries='+---------------------+---------------------+-------------+--------------------+--------------+--------------+\n",
       " |          Begin Time |            End Time | Target Name | Observation Number | Exposure (s) | Slewtime (s) |\n",
       " +---------------------+---------------------+-------------+--------------------+--------------+--------------+\n",
       " | 2005-08-01 13:40:02 | 2005-08-01 13:56:58 |       SS433 |        00035190006 |         1000 |           16 |\n",
       " +---------------------+---------------------+-------------+--------------------+--------------+--------------+'),\n",
       " '00035190007': Swift_Observation(begin='2005-08-01 18:44:15',end='2005-08-01 18:46:32',targname='SS433',targetid='35190',seg='7',ra_object='287.9565',dec_object='4.982667',xrt='Auto',uvot='0x000a',bat='0x0000',entries='+---------------------+---------------------+-------------+--------------------+--------------+--------------+\n",
       " |          Begin Time |            End Time | Target Name | Observation Number | Exposure (s) | Slewtime (s) |\n",
       " +---------------------+---------------------+-------------+--------------------+--------------+--------------+\n",
       " | 2005-08-01 18:44:15 | 2005-08-01 18:46:32 |       SS433 |        00035190007 |            0 |          137 |\n",
       " +---------------------+---------------------+-------------+--------------------+--------------+--------------+'),\n",
       " '00035190008': Swift_Observation(begin='2005-08-01 18:46:35',end='2005-08-01 19:08:01',targname='SS433',targetid='35190',seg='8',ra_object='287.9565',dec_object='4.982667',xrt='Auto',uvot='0x1159',bat='0x0000',entries='+---------------------+---------------------+-------------+--------------------+--------------+--------------+\n",
       " |          Begin Time |            End Time | Target Name | Observation Number | Exposure (s) | Slewtime (s) |\n",
       " +---------------------+---------------------+-------------+--------------------+--------------+--------------+\n",
       " | 2005-08-01 18:46:35 | 2005-08-01 19:08:01 |       SS433 |        00035190008 |         1270 |           16 |\n",
       " +---------------------+---------------------+-------------+--------------------+--------------+--------------+'),\n",
       " '00035190013': Swift_Observation(begin='2005-08-18 00:59:02',end='2005-08-18 02:51:58',targname='SS433',targetid='35190',seg='13',ra_object='287.9565',dec_object='4.982667',xrt='Auto',uvot='0x1159',bat='0x0000',entries='+---------------------+---------------------+-------------+--------------------+--------------+--------------+\n",
       " |          Begin Time |            End Time | Target Name | Observation Number | Exposure (s) | Slewtime (s) |\n",
       " +---------------------+---------------------+-------------+--------------------+--------------+--------------+\n",
       " | 2005-08-18 00:59:02 | 2005-08-18 01:14:58 |       SS433 |        00035190013 |          870 |           86 |\n",
       " | 2005-08-18 02:35:02 | 2005-08-18 02:51:58 |       SS433 |        00035190013 |          930 |           86 |\n",
       " +---------------------+---------------------+-------------+--------------------+--------------+--------------+'),\n",
       " '00035190014': Swift_Observation(begin='2006-06-30 13:45:02',end='2006-06-30 23:27:00',targname='SS 433',targetid='35190',seg='14',ra_object='287.9565',dec_object='4.982667',xrt='Auto',uvot='0x20ed',bat='0x0000',entries='+---------------------+---------------------+-------------+--------------------+--------------+--------------+\n",
       " |          Begin Time |            End Time | Target Name | Observation Number | Exposure (s) | Slewtime (s) |\n",
       " +---------------------+---------------------+-------------+--------------------+--------------+--------------+\n",
       " | 2006-06-30 13:45:02 | 2006-06-30 13:55:00 |      SS 433 |        00035190014 |          425 |          173 |\n",
       " | 2006-06-30 15:19:02 | 2006-06-30 15:31:00 |      SS 433 |        00035190014 |          545 |          173 |\n",
       " | 2006-06-30 16:56:02 | 2006-06-30 17:08:00 |      SS 433 |        00035190014 |          545 |          173 |\n",
       " | 2006-06-30 18:32:02 | 2006-06-30 18:44:00 |      SS 433 |        00035190014 |          545 |          173 |\n",
       " | 2006-06-30 20:09:02 | 2006-06-30 20:21:00 |      SS 433 |        00035190014 |          545 |          173 |\n",
       " | 2006-06-30 21:45:01 | 2006-06-30 21:57:00 |      SS 433 |        00035190014 |          545 |          174 |\n",
       " | 2006-06-30 23:22:02 | 2006-06-30 23:27:00 |      SS 433 |        00035190014 |          125 |          173 |\n",
       " +---------------------+---------------------+-------------+--------------------+--------------+--------------+'),\n",
       " '00035190015': Swift_Observation(begin='2006-07-01 02:34:02',end='2006-07-02 10:53:56',targname='SS 433',targetid='35190',seg='15',ra_object='287.9565',dec_object='4.982667',xrt='Auto',uvot='0x20ed',bat='0x0000',entries='+---------------------+---------------------+-------------+--------------------+--------------+--------------+\n",
       " |          Begin Time |            End Time | Target Name | Observation Number | Exposure (s) | Slewtime (s) |\n",
       " +---------------------+---------------------+-------------+--------------------+--------------+--------------+\n",
       " | 2006-07-01 02:34:02 | 2006-07-01 02:43:56 |      SS 433 |        00035190015 |          435 |          159 |\n",
       " | 2006-07-01 04:11:02 | 2006-07-01 04:24:56 |      SS 433 |        00035190015 |          675 |          159 |\n",
       " | 2006-07-01 05:47:02 | 2006-07-01 05:59:01 |      SS 433 |        00035190015 |          560 |          159 |\n",
       " | 2006-07-01 07:24:02 | 2006-07-01 07:34:58 |      SS 433 |        00035190015 |          485 |          171 |\n",
       " | 2006-07-01 09:00:02 | 2006-07-01 09:11:57 |      SS 433 |        00035190015 |          535 |          180 |\n",
       " | 2006-07-01 10:36:02 | 2006-07-01 10:47:57 |      SS 433 |        00035190015 |          535 |          180 |\n",
       " | 2006-07-01 12:13:02 | 2006-07-01 12:23:58 |      SS 433 |        00035190015 |          485 |          171 |\n",
       " | 2006-07-01 20:15:02 | 2006-07-01 20:25:58 |      SS 433 |        00035190015 |          475 |          181 |\n",
       " | 2006-07-01 21:51:02 | 2006-07-01 22:02:57 |      SS 433 |        00035190015 |          535 |          180 |\n",
       " | 2006-07-02 02:41:02 | 2006-07-02 02:50:58 |      SS 433 |        00035190015 |          415 |          181 |\n",
       " | 2006-07-02 04:17:02 | 2006-07-02 04:31:57 |      SS 433 |        00035190015 |          715 |          180 |\n",
       " | 2006-07-02 05:53:02 | 2006-07-02 06:04:57 |      SS 433 |        00035190015 |          540 |          175 |\n",
       " | 2006-07-02 07:30:02 | 2006-07-02 07:40:57 |      SS 433 |        00035190015 |          480 |          175 |\n",
       " | 2006-07-02 09:06:02 | 2006-07-02 09:16:57 |      SS 433 |        00035190015 |          480 |          175 |\n",
       " | 2006-07-02 10:43:02 | 2006-07-02 10:53:56 |      SS 433 |        00035190015 |          480 |          174 |\n",
       " +---------------------+---------------------+-------------+--------------------+--------------+--------------+'),\n",
       " '00035190016': Swift_Observation(begin='2006-11-03 18:42:58',end='2006-11-03 22:20:08',targname='SS433',targetid='35190',seg='16',ra_object='287.9565',dec_object='4.982667',xrt='Auto',uvot='0x20ed',bat='0x0000',entries='+---------------------+---------------------+-------------+--------------------+--------------+--------------+\n",
       " |          Begin Time |            End Time | Target Name | Observation Number | Exposure (s) | Slewtime (s) |\n",
       " +---------------------+---------------------+-------------+--------------------+--------------+--------------+\n",
       " | 2006-11-03 18:42:58 | 2006-11-03 18:46:57 |       SS433 |        00035190016 |           20 |          219 |\n",
       " | 2006-11-03 19:06:02 | 2006-11-03 19:28:25 |       SS433 |        00035190016 |         1285 |           58 |\n",
       " | 2006-11-03 20:19:35 | 2006-11-03 21:04:35 |       SS433 |        00035190016 |         2481 |          219 |\n",
       " | 2006-11-03 21:55:59 | 2006-11-03 22:20:08 |       SS433 |        00035190016 |         1230 |          219 |\n",
       " +---------------------+---------------------+-------------+--------------------+--------------+--------------+'),\n",
       " '00035190020': Swift_Observation(begin='2007-09-12 13:31:01',end='2007-09-12 13:45:59',targname='SS433',targetid='35190',seg='20',ra_object='287.9565',dec_object='4.982667',xrt='PC',uvot='0x000a',bat='0x0000',entries='+---------------------+---------------------+-------------+--------------------+--------------+--------------+\n",
       " |          Begin Time |            End Time | Target Name | Observation Number | Exposure (s) | Slewtime (s) |\n",
       " +---------------------+---------------------+-------------+--------------------+--------------+--------------+\n",
       " | 2007-09-12 13:31:01 | 2007-09-12 13:45:59 |       SS433 |        00035190020 |          785 |          113 |\n",
       " +---------------------+---------------------+-------------+--------------------+--------------+--------------+'),\n",
       " '00035190021': Swift_Observation(begin='2007-09-13 13:37:01',end='2007-09-13 13:47:58',targname='SS433',targetid='35190',seg='21',ra_object='287.9565',dec_object='4.982667',xrt='PC',uvot='0x000a',bat='0x0000',entries='+---------------------+---------------------+-------------+--------------------+--------------+--------------+\n",
       " |          Begin Time |            End Time | Target Name | Observation Number | Exposure (s) | Slewtime (s) |\n",
       " +---------------------+---------------------+-------------+--------------------+--------------+--------------+\n",
       " | 2007-09-13 13:37:01 | 2007-09-13 13:47:58 |       SS433 |        00035190021 |          535 |          122 |\n",
       " +---------------------+---------------------+-------------+--------------------+--------------+--------------+'),\n",
       " '00035190022': Swift_Observation(begin='2007-09-14 13:37:01',end='2007-09-14 13:52:00',targname='SS433',targetid='35190',seg='22',ra_object='287.9565',dec_object='4.982667',xrt='PC',uvot='0x000a',bat='0x0000',entries='+---------------------+---------------------+-------------+--------------------+--------------+--------------+\n",
       " |          Begin Time |            End Time | Target Name | Observation Number | Exposure (s) | Slewtime (s) |\n",
       " +---------------------+---------------------+-------------+--------------------+--------------+--------------+\n",
       " | 2007-09-14 13:37:01 | 2007-09-14 13:52:00 |       SS433 |        00035190022 |          790 |          109 |\n",
       " +---------------------+---------------------+-------------+--------------------+--------------+--------------+'),\n",
       " '00035190023': Swift_Observation(begin='2007-09-15 01:02:01',end='2007-09-16 17:23:57',targname='SS433',targetid='35190',seg='23',ra_object='287.9565',dec_object='4.982667',xrt='PC',uvot='0x000a',bat='0x0000',entries='+---------------------+---------------------+-------------+--------------------+--------------+--------------+\n",
       " |          Begin Time |            End Time | Target Name | Observation Number | Exposure (s) | Slewtime (s) |\n",
       " +---------------------+---------------------+-------------+--------------------+--------------+--------------+\n",
       " | 2007-09-15 01:02:01 | 2007-09-15 01:15:56 |       SS433 |        00035190023 |          785 |           50 |\n",
       " | 2007-09-16 17:11:01 | 2007-09-16 17:23:57 |       SS433 |        00035190023 |          725 |           51 |\n",
       " +---------------------+---------------------+-------------+--------------------+--------------+--------------+'),\n",
       " '00035190025': Swift_Observation(begin='2007-09-27 21:17:01',end='2007-09-27 21:34:58',targname='SS433',targetid='35190',seg='25',ra_object='287.9565',dec_object='4.982667',xrt='PC',uvot='0x000a',bat='0x0000',entries='+---------------------+---------------------+-------------+--------------------+--------------+--------------+\n",
       " |          Begin Time |            End Time | Target Name | Observation Number | Exposure (s) | Slewtime (s) |\n",
       " +---------------------+---------------------+-------------+--------------------+--------------+--------------+\n",
       " | 2007-09-27 21:17:01 | 2007-09-27 21:34:58 |       SS433 |        00035190025 |          995 |           82 |\n",
       " +---------------------+---------------------+-------------+--------------------+--------------+--------------+'),\n",
       " '00035190026': Swift_Observation(begin='2012-10-15 23:45:20',end='2012-10-16 00:03:22',targname='SS433',targetid='35190',seg='26',ra_object='287.9565',dec_object='4.982667',xrt='WT',uvot='0x018c',bat='0x0000',entries='+---------------------+---------------------+-------------+--------------------+--------------+--------------+\n",
       " |          Begin Time |            End Time | Target Name | Observation Number | Exposure (s) | Slewtime (s) |\n",
       " +---------------------+---------------------+-------------+--------------------+--------------+--------------+\n",
       " | 2012-10-15 23:45:20 | 2012-10-16 00:03:22 |       SS433 |        00035190026 |         1000 |           82 |\n",
       " +---------------------+---------------------+-------------+--------------------+--------------+--------------+'),\n",
       " '00035190027': Swift_Observation(begin='2014-07-28 14:26:50',end='2014-07-28 15:56:23',targname='SS433',targetid='35190',seg='27',ra_object='287.9565',dec_object='4.982667',xrt='WT',uvot='0x0271',bat='0x0000',entries='+---------------------+---------------------+-------------+--------------------+--------------+--------------+\n",
       " |          Begin Time |            End Time | Target Name | Observation Number | Exposure (s) | Slewtime (s) |\n",
       " +---------------------+---------------------+-------------+--------------------+--------------+--------------+\n",
       " | 2014-07-28 14:26:50 | 2014-07-28 14:32:27 |       SS433 |        00035190027 |          185 |          152 |\n",
       " | 2014-07-28 15:24:35 | 2014-07-28 15:56:23 |       SS433 |        00035190027 |         1810 |           98 |\n",
       " +---------------------+---------------------+-------------+--------------------+--------------+--------------+'),\n",
       " '00035190028': Swift_Observation(begin='2014-09-26 07:20:47',end='2014-09-26 10:18:32',targname='SS433',targetid='35190',seg='28',ra_object='287.9565',dec_object='4.982667',xrt='WT',uvot='0x015a',bat='0x0000',entries='+---------------------+---------------------+-------------+--------------------+--------------+--------------+\n",
       " |          Begin Time |            End Time | Target Name | Observation Number | Exposure (s) | Slewtime (s) |\n",
       " +---------------------+---------------------+-------------+--------------------+--------------+--------------+\n",
       " | 2014-09-26 07:20:47 | 2014-09-26 07:25:58 |       SS433 |        00035190028 |          185 |          126 |\n",
       " | 2014-09-26 08:33:02 | 2014-09-26 08:45:57 |       SS433 |        00035190028 |          655 |          120 |\n",
       " | 2014-09-26 10:14:02 | 2014-09-26 10:18:32 |       SS433 |        00035190028 |          150 |          120 |\n",
       " +---------------------+---------------------+-------------+--------------------+--------------+--------------+'),\n",
       " '00035190030': Swift_Observation(begin='2014-10-01 18:00:02',end='2014-10-01 18:14:00',targname='SS433',targetid='35190',seg='30',ra_object='287.9565',dec_object='4.982667',xrt='WT',uvot='0x018c',bat='0x0000',entries='+---------------------+---------------------+-------------+--------------------+--------------+--------------+\n",
       " |          Begin Time |            End Time | Target Name | Observation Number | Exposure (s) | Slewtime (s) |\n",
       " +---------------------+---------------------+-------------+--------------------+--------------+--------------+\n",
       " | 2014-10-01 18:00:02 | 2014-10-01 18:14:00 |       SS433 |        00035190030 |          745 |           93 |\n",
       " +---------------------+---------------------+-------------+--------------------+--------------+--------------+'),\n",
       " '00035190031': Swift_Observation(begin='2014-10-03 13:10:02',end='2014-10-03 13:26:59',targname='SS433',targetid='35190',seg='31',ra_object='287.9565',dec_object='4.982667',xrt='WT',uvot='0x011e',bat='0x0000',entries='+---------------------+---------------------+-------------+--------------------+--------------+--------------+\n",
       " |          Begin Time |            End Time | Target Name | Observation Number | Exposure (s) | Slewtime (s) |\n",
       " +---------------------+---------------------+-------------+--------------------+--------------+--------------+\n",
       " | 2014-10-03 13:10:02 | 2014-10-03 13:26:59 |       SS433 |        00035190031 |          845 |          172 |\n",
       " +---------------------+---------------------+-------------+--------------------+--------------+--------------+'),\n",
       " '00080803001': Swift_Observation(begin='2014-10-04 03:33:02',end='2014-10-04 13:16:57',targname='SS433',targetid='80803',seg='1',ra_object='287.95654',dec_object='4.98275',xrt='Auto',uvot='0x015a',bat='0x0000',entries='+---------------------+---------------------+-------------+--------------------+--------------+--------------+\n",
       " |          Begin Time |            End Time | Target Name | Observation Number | Exposure (s) | Slewtime (s) |\n",
       " +---------------------+---------------------+-------------+--------------------+--------------+--------------+\n",
       " | 2014-10-04 03:33:02 | 2014-10-04 03:46:57 |       SS433 |        00080803001 |          740 |           95 |\n",
       " | 2014-10-04 08:18:02 | 2014-10-04 08:34:57 |       SS433 |        00080803001 |          865 |          150 |\n",
       " | 2014-10-04 13:07:02 | 2014-10-04 13:16:57 |       SS433 |        00080803001 |          490 |          105 |\n",
       " +---------------------+---------------------+-------------+--------------------+--------------+--------------+'),\n",
       " '00035190032': Swift_Observation(begin='2014-10-05 13:18:09',end='2014-10-05 13:33:57',targname='SS433',targetid='35190',seg='32',ra_object='287.9565',dec_object='4.982667',xrt='WT',uvot='0x018c',bat='0x0000',entries='+---------------------+---------------------+-------------+--------------------+--------------+--------------+\n",
       " |          Begin Time |            End Time | Target Name | Observation Number | Exposure (s) | Slewtime (s) |\n",
       " +---------------------+---------------------+-------------+--------------------+--------------+--------------+\n",
       " | 2014-10-05 13:18:09 | 2014-10-05 13:33:57 |       SS433 |        00035190032 |          880 |           68 |\n",
       " +---------------------+---------------------+-------------+--------------------+--------------+--------------+'),\n",
       " '00035190033': Swift_Observation(begin='2014-10-07 00:24:02',end='2014-10-07 00:40:59',targname='SS433',targetid='35190',seg='33',ra_object='287.9565',dec_object='4.982667',xrt='WT',uvot='0x011e',bat='0x0000',entries='+---------------------+---------------------+-------------+--------------------+--------------+--------------+\n",
       " |          Begin Time |            End Time | Target Name | Observation Number | Exposure (s) | Slewtime (s) |\n",
       " +---------------------+---------------------+-------------+--------------------+--------------+--------------+\n",
       " | 2014-10-07 00:24:02 | 2014-10-07 00:40:59 |       SS433 |        00035190033 |          870 |          147 |\n",
       " +---------------------+---------------------+-------------+--------------------+--------------+--------------+'),\n",
       " '00035190034': Swift_Observation(begin='2014-10-09 00:12:02',end='2014-10-09 00:28:59',targname='SS433',targetid='35190',seg='34',ra_object='287.9565',dec_object='4.982667',xrt='WT',uvot='0x018c',bat='0x0000',entries='+---------------------+---------------------+-------------+--------------------+--------------+--------------+\n",
       " |          Begin Time |            End Time | Target Name | Observation Number | Exposure (s) | Slewtime (s) |\n",
       " +---------------------+---------------------+-------------+--------------------+--------------+--------------+\n",
       " | 2014-10-09 00:12:02 | 2014-10-09 00:28:59 |       SS433 |        00035190034 |          935 |           82 |\n",
       " +---------------------+---------------------+-------------+--------------------+--------------+--------------+'),\n",
       " '00080803002': Swift_Observation(begin='2014-10-17 04:47:02',end='2014-10-17 15:02:57',targname='SS433',targetid='80803',seg='2',ra_object='287.95654',dec_object='4.98275',xrt='Auto',uvot='0x018c',bat='0x0000',entries='+---------------------+---------------------+-------------+--------------------+--------------+--------------+\n",
       " |          Begin Time |            End Time | Target Name | Observation Number | Exposure (s) | Slewtime (s) |\n",
       " +---------------------+---------------------+-------------+--------------------+--------------+--------------+\n",
       " | 2014-10-17 04:47:02 | 2014-10-17 04:59:57 |       SS433 |        00080803002 |          655 |          120 |\n",
       " | 2014-10-17 06:34:02 | 2014-10-17 06:52:41 |       SS433 |        00080803002 |         1015 |          104 |\n",
       " | 2014-10-17 14:52:02 | 2014-10-17 15:02:57 |       SS433 |        00080803002 |          510 |          145 |\n",
       " +---------------------+---------------------+-------------+--------------------+--------------+--------------+'),\n",
       " '00080803003': Swift_Observation(begin='2014-10-30 16:06:02',end='2014-10-30 18:00:58',targname='SS433',targetid='80803',seg='3',ra_object='287.95654',dec_object='4.98275',xrt='Auto',uvot='0x01aa',bat='0x0000',entries='+---------------------+---------------------+-------------+--------------------+--------------+--------------+\n",
       " |          Begin Time |            End Time | Target Name | Observation Number | Exposure (s) | Slewtime (s) |\n",
       " +---------------------+---------------------+-------------+--------------------+--------------+--------------+\n",
       " | 2014-10-30 16:06:02 | 2014-10-30 16:24:58 |       SS433 |        00080803003 |         1070 |           66 |\n",
       " | 2014-10-30 17:46:02 | 2014-10-30 18:00:58 |       SS433 |        00080803003 |          830 |           66 |\n",
       " +---------------------+---------------------+-------------+--------------------+--------------+--------------+'),\n",
       " '00080803004': Swift_Observation(begin='2014-11-12 20:14:02',end='2014-11-12 22:08:59',targname='SS433',targetid='80803',seg='4',ra_object='287.95654',dec_object='4.98275',xrt='Auto',uvot='0x011e',bat='0x0000',entries='+---------------------+---------------------+-------------+--------------------+--------------+--------------+\n",
       " |          Begin Time |            End Time | Target Name | Observation Number | Exposure (s) | Slewtime (s) |\n",
       " +---------------------+---------------------+-------------+--------------------+--------------+--------------+\n",
       " | 2014-11-12 20:14:02 | 2014-11-12 20:35:59 |       SS433 |        00080803004 |         1170 |          147 |\n",
       " | 2014-11-12 21:50:02 | 2014-11-12 22:08:59 |       SS433 |        00080803004 |          960 |          177 |\n",
       " +---------------------+---------------------+-------------+--------------------+--------------+--------------+'),\n",
       " '00080803005': Swift_Observation(begin='2014-11-25 11:56:02',end='2014-11-25 13:41:58',targname='SS433',targetid='80803',seg='5',ra_object='287.95654',dec_object='4.98275',xrt='Auto',uvot='0x015a',bat='0x0000',entries='+---------------------+---------------------+-------------+--------------------+--------------+--------------+\n",
       " |          Begin Time |            End Time | Target Name | Observation Number | Exposure (s) | Slewtime (s) |\n",
       " +---------------------+---------------------+-------------+--------------------+--------------+--------------+\n",
       " | 2014-11-25 11:56:02 | 2014-11-25 12:25:58 |       SS433 |        00080803005 |         1585 |          211 |\n",
       " | 2014-11-25 13:32:02 | 2014-11-25 13:41:58 |       SS433 |        00080803005 |          445 |          151 |\n",
       " +---------------------+---------------------+-------------+--------------------+--------------+--------------+'),\n",
       " '00080803006': Swift_Observation(begin='2015-02-24 23:17:02',end='2015-02-24 23:46:58',targname='SS433',targetid='80803',seg='6',ra_object='287.95654',dec_object='4.98275',xrt='Auto',uvot='0x011e',bat='0x0000',entries='+---------------------+---------------------+-------------+--------------------+--------------+--------------+\n",
       " |          Begin Time |            End Time | Target Name | Observation Number | Exposure (s) | Slewtime (s) |\n",
       " +---------------------+---------------------+-------------+--------------------+--------------+--------------+\n",
       " | 2015-02-24 23:17:02 | 2015-02-24 23:46:58 |       SS433 |        00080803006 |         1655 |          141 |\n",
       " +---------------------+---------------------+-------------+--------------------+--------------+--------------+'),\n",
       " '00080803008': Swift_Observation(begin='2015-03-11 05:28:01',end='2015-03-11 07:21:59',targname='SS433',targetid='80803',seg='8',ra_object='287.95654',dec_object='4.98275',xrt='Auto',uvot='0x01aa',bat='0x0000',entries='+---------------------+---------------------+-------------+--------------------+--------------+--------------+\n",
       " |          Begin Time |            End Time | Target Name | Observation Number | Exposure (s) | Slewtime (s) |\n",
       " +---------------------+---------------------+-------------+--------------------+--------------+--------------+\n",
       " | 2015-03-11 05:28:01 | 2015-03-11 05:47:00 |       SS433 |        00080803008 |         1055 |           84 |\n",
       " | 2015-03-11 07:05:02 | 2015-03-11 07:21:59 |       SS433 |        00080803008 |          925 |           92 |\n",
       " +---------------------+---------------------+-------------+--------------------+--------------+--------------+'),\n",
       " '00080803009': Swift_Observation(begin='2015-03-23 22:11:02',end='2015-03-23 23:59:56',targname='SS433',targetid='80803',seg='9',ra_object='287.95654',dec_object='4.98275',xrt='Auto',uvot='0x01aa',bat='0x0000',entries='+---------------------+---------------------+-------------+--------------------+--------------+--------------+\n",
       " |          Begin Time |            End Time | Target Name | Observation Number | Exposure (s) | Slewtime (s) |\n",
       " +---------------------+---------------------+-------------+--------------------+--------------+--------------+\n",
       " | 2015-03-23 22:11:02 | 2015-03-23 22:29:57 |       SS433 |        00080803009 |         1055 |           80 |\n",
       " | 2015-03-23 23:44:02 | 2015-03-23 23:59:56 |       SS433 |        00080803009 |          875 |           79 |\n",
       " +---------------------+---------------------+-------------+--------------------+--------------+--------------+'),\n",
       " '00080803010': Swift_Observation(begin='2015-04-18 19:22:02',end='2015-04-18 21:10:29',targname='SS433',targetid='80803',seg='10',ra_object='287.95654',dec_object='4.98275',xrt='Auto',uvot='0x015a',bat='0x0000',entries='+---------------------+---------------------+-------------+--------------------+--------------+--------------+\n",
       " |          Begin Time |            End Time | Target Name | Observation Number | Exposure (s) | Slewtime (s) |\n",
       " +---------------------+---------------------+-------------+--------------------+--------------+--------------+\n",
       " | 2015-04-18 19:22:02 | 2015-04-18 19:51:57 |       SS433 |        00080803010 |         1675 |          120 |\n",
       " | 2015-04-18 21:07:10 | 2015-04-18 21:10:29 |       SS433 |        00080803010 |            0 |          199 |\n",
       " +---------------------+---------------------+-------------+--------------------+--------------+--------------+'),\n",
       " '00035190035': Swift_Observation(begin='2015-06-22 22:47:02',end='2015-06-22 23:06:59',targname='SS433',targetid='35190',seg='35',ra_object='287.9565',dec_object='4.982667',xrt='WT',uvot='0x018c',bat='0x0000',entries='+---------------------+---------------------+-------------+--------------------+--------------+--------------+\n",
       " |          Begin Time |            End Time | Target Name | Observation Number | Exposure (s) | Slewtime (s) |\n",
       " +---------------------+---------------------+-------------+--------------------+--------------+--------------+\n",
       " | 2015-06-22 22:47:02 | 2015-06-22 23:06:59 |       SS433 |        00035190035 |         1135 |           62 |\n",
       " +---------------------+---------------------+-------------+--------------------+--------------+--------------+'),\n",
       " '00080803011': Swift_Observation(begin='2015-07-05 08:54:02',end='2015-07-05 11:09:59',targname='SS433',targetid='80803',seg='11',ra_object='287.95654',dec_object='4.98275',xrt='Auto',uvot='0x01aa',bat='0x0000',entries='+---------------------+---------------------+-------------+--------------------+--------------+--------------+\n",
       " |          Begin Time |            End Time | Target Name | Observation Number | Exposure (s) | Slewtime (s) |\n",
       " +---------------------+---------------------+-------------+--------------------+--------------+--------------+\n",
       " | 2015-07-05 08:54:02 | 2015-07-05 08:55:50 |       SS433 |        00080803011 |           15 |           93 |\n",
       " | 2015-07-05 10:49:02 | 2015-07-05 11:09:59 |       SS433 |        00080803011 |         1205 |           52 |\n",
       " +---------------------+---------------------+-------------+--------------------+--------------+--------------+'),\n",
       " '00035190036': Swift_Observation(begin='2018-07-25 07:17:02',end='2018-07-25 17:00:58',targname='SS433',targetid='35190',seg='36',ra_object='287.9565',dec_object='4.982667',xrt='PC',uvot='0x01aa',bat='0x0000',entries='+---------------------+---------------------+-------------+--------------------+--------------+--------------+\n",
       " |          Begin Time |            End Time | Target Name | Observation Number | Exposure (s) | Slewtime (s) |\n",
       " +---------------------+---------------------+-------------+--------------------+--------------+--------------+\n",
       " | 2018-07-25 07:17:02 | 2018-07-25 07:24:59 |       SS433 |        00035190036 |          355 |          122 |\n",
       " | 2018-07-25 16:48:02 | 2018-07-25 17:00:58 |       SS433 |        00035190036 |          680 |           96 |\n",
       " +---------------------+---------------------+-------------+--------------------+--------------+--------------+'),\n",
       " '00035190037': Swift_Observation(begin='2018-08-29 10:43:02',end='2018-08-29 23:45:57',targname='SS433',targetid='35190',seg='37',ra_object='287.9565',dec_object='4.982667',xrt='PC',uvot='0x018c',bat='0x0000',entries='+---------------------+---------------------+-------------+--------------------+--------------+--------------+\n",
       " |          Begin Time |            End Time | Target Name | Observation Number | Exposure (s) | Slewtime (s) |\n",
       " +---------------------+---------------------+-------------+--------------------+--------------+--------------+\n",
       " | 2018-08-29 10:43:02 | 2018-08-29 10:50:59 |       SS433 |        00035190037 |          395 |           82 |\n",
       " | 2018-08-29 23:31:01 | 2018-08-29 23:45:57 |       SS433 |        00035190037 |          805 |           91 |\n",
       " +---------------------+---------------------+-------------+--------------------+--------------+--------------+')}"
      ]
     },
     "execution_count": 67,
     "metadata": {},
     "output_type": "execute_result"
    }
   ],
   "source": [
    "query.observations"
   ]
  },
  {
   "cell_type": "markdown",
   "metadata": {},
   "source": [
    "You can see that now the summary shows the details for an entire observation, with the begin and end times being those of associated with the first and last observation of that Observation ID, and the exposure time being the total. Importantly due to orbit gaps, the exposure time is not just end minus begin. Each entry in the observations dictionary contains details on the individual segments also. Note that Observation ID is a string, given as it is formatted with padding zeros. For example:"
   ]
  },
  {
   "cell_type": "code",
   "execution_count": 68,
   "metadata": {},
   "outputs": [
    {
     "data": {
      "text/html": [
       "<table><thead><th style='text-align: left;'>Begin Time</th><th style='text-align: left;'>End Time</th><th style='text-align: left;'>Target Name</th><th style='text-align: left;'>Observation Number</th><th style='text-align: left;'>Exposure (s)</th><th style='text-align: left;'>Slewtime (s)</th></thead><tr><td style='text-align: left;'>2006-07-01 02:34:02</td><td style='text-align: left;'>2006-07-02 10:53:56</td><td style='text-align: left;'>SS 433</td><td style='text-align: left;'>00035190015</td><td style='text-align: left;'>7830</td><td style='text-align: left;'>2600</td></tr></table>"
      ],
      "text/plain": [
       "Swift_Observation(begin='2006-07-01 02:34:02',end='2006-07-02 10:53:56',targname='SS 433',targetid='35190',seg='15',ra_object='287.9565',dec_object='4.982667',xrt='Auto',uvot='0x20ed',bat='0x0000',entries='+---------------------+---------------------+-------------+--------------------+--------------+--------------+\n",
       "|          Begin Time |            End Time | Target Name | Observation Number | Exposure (s) | Slewtime (s) |\n",
       "+---------------------+---------------------+-------------+--------------------+--------------+--------------+\n",
       "| 2006-07-01 02:34:02 | 2006-07-01 02:43:56 |      SS 433 |        00035190015 |          435 |          159 |\n",
       "| 2006-07-01 04:11:02 | 2006-07-01 04:24:56 |      SS 433 |        00035190015 |          675 |          159 |\n",
       "| 2006-07-01 05:47:02 | 2006-07-01 05:59:01 |      SS 433 |        00035190015 |          560 |          159 |\n",
       "| 2006-07-01 07:24:02 | 2006-07-01 07:34:58 |      SS 433 |        00035190015 |          485 |          171 |\n",
       "| 2006-07-01 09:00:02 | 2006-07-01 09:11:57 |      SS 433 |        00035190015 |          535 |          180 |\n",
       "| 2006-07-01 10:36:02 | 2006-07-01 10:47:57 |      SS 433 |        00035190015 |          535 |          180 |\n",
       "| 2006-07-01 12:13:02 | 2006-07-01 12:23:58 |      SS 433 |        00035190015 |          485 |          171 |\n",
       "| 2006-07-01 20:15:02 | 2006-07-01 20:25:58 |      SS 433 |        00035190015 |          475 |          181 |\n",
       "| 2006-07-01 21:51:02 | 2006-07-01 22:02:57 |      SS 433 |        00035190015 |          535 |          180 |\n",
       "| 2006-07-02 02:41:02 | 2006-07-02 02:50:58 |      SS 433 |        00035190015 |          415 |          181 |\n",
       "| 2006-07-02 04:17:02 | 2006-07-02 04:31:57 |      SS 433 |        00035190015 |          715 |          180 |\n",
       "| 2006-07-02 05:53:02 | 2006-07-02 06:04:57 |      SS 433 |        00035190015 |          540 |          175 |\n",
       "| 2006-07-02 07:30:02 | 2006-07-02 07:40:57 |      SS 433 |        00035190015 |          480 |          175 |\n",
       "| 2006-07-02 09:06:02 | 2006-07-02 09:16:57 |      SS 433 |        00035190015 |          480 |          175 |\n",
       "| 2006-07-02 10:43:02 | 2006-07-02 10:53:56 |      SS 433 |        00035190015 |          480 |          174 |\n",
       "+---------------------+---------------------+-------------+--------------------+--------------+--------------+')"
      ]
     },
     "execution_count": 68,
     "metadata": {},
     "output_type": "execute_result"
    }
   ],
   "source": [
    "query.observations[\"00035190015\"]"
   ]
  },
  {
   "cell_type": "markdown",
   "metadata": {},
   "source": [
    "If we want to see what snapshots make up a particular observation, it's easy:"
   ]
  },
  {
   "cell_type": "code",
   "execution_count": 69,
   "metadata": {},
   "outputs": [
    {
     "data": {
      "text/html": [
       "<table><thead><th style='text-align: left;'>Begin Time</th><th style='text-align: left;'>End Time</th><th style='text-align: left;'>Target Name</th><th style='text-align: left;'>Observation Number</th><th style='text-align: left;'>Exposure (s)</th><th style='text-align: left;'>Slewtime (s)</th></thead><tr><td style='text-align: left;'>2006-07-01 02:34:02</td><td style='text-align: left;'>2006-07-01 02:43:56</td><td style='text-align: left;'>SS 433</td><td style='text-align: left;'>00035190015</td><td style='text-align: left;'>435</td><td style='text-align: left;'>159</td></tr><tr><td style='text-align: left;'>2006-07-01 04:11:02</td><td style='text-align: left;'>2006-07-01 04:24:56</td><td style='text-align: left;'>SS 433</td><td style='text-align: left;'>00035190015</td><td style='text-align: left;'>675</td><td style='text-align: left;'>159</td></tr><tr><td style='text-align: left;'>2006-07-01 05:47:02</td><td style='text-align: left;'>2006-07-01 05:59:01</td><td style='text-align: left;'>SS 433</td><td style='text-align: left;'>00035190015</td><td style='text-align: left;'>560</td><td style='text-align: left;'>159</td></tr><tr><td style='text-align: left;'>2006-07-01 07:24:02</td><td style='text-align: left;'>2006-07-01 07:34:58</td><td style='text-align: left;'>SS 433</td><td style='text-align: left;'>00035190015</td><td style='text-align: left;'>485</td><td style='text-align: left;'>171</td></tr><tr><td style='text-align: left;'>2006-07-01 09:00:02</td><td style='text-align: left;'>2006-07-01 09:11:57</td><td style='text-align: left;'>SS 433</td><td style='text-align: left;'>00035190015</td><td style='text-align: left;'>535</td><td style='text-align: left;'>180</td></tr><tr><td style='text-align: left;'>2006-07-01 10:36:02</td><td style='text-align: left;'>2006-07-01 10:47:57</td><td style='text-align: left;'>SS 433</td><td style='text-align: left;'>00035190015</td><td style='text-align: left;'>535</td><td style='text-align: left;'>180</td></tr><tr><td style='text-align: left;'>2006-07-01 12:13:02</td><td style='text-align: left;'>2006-07-01 12:23:58</td><td style='text-align: left;'>SS 433</td><td style='text-align: left;'>00035190015</td><td style='text-align: left;'>485</td><td style='text-align: left;'>171</td></tr><tr><td style='text-align: left;'>2006-07-01 20:15:02</td><td style='text-align: left;'>2006-07-01 20:25:58</td><td style='text-align: left;'>SS 433</td><td style='text-align: left;'>00035190015</td><td style='text-align: left;'>475</td><td style='text-align: left;'>181</td></tr><tr><td style='text-align: left;'>2006-07-01 21:51:02</td><td style='text-align: left;'>2006-07-01 22:02:57</td><td style='text-align: left;'>SS 433</td><td style='text-align: left;'>00035190015</td><td style='text-align: left;'>535</td><td style='text-align: left;'>180</td></tr><tr><td style='text-align: left;'>2006-07-02 02:41:02</td><td style='text-align: left;'>2006-07-02 02:50:58</td><td style='text-align: left;'>SS 433</td><td style='text-align: left;'>00035190015</td><td style='text-align: left;'>415</td><td style='text-align: left;'>181</td></tr><tr><td style='text-align: left;'>2006-07-02 04:17:02</td><td style='text-align: left;'>2006-07-02 04:31:57</td><td style='text-align: left;'>SS 433</td><td style='text-align: left;'>00035190015</td><td style='text-align: left;'>715</td><td style='text-align: left;'>180</td></tr><tr><td style='text-align: left;'>2006-07-02 05:53:02</td><td style='text-align: left;'>2006-07-02 06:04:57</td><td style='text-align: left;'>SS 433</td><td style='text-align: left;'>00035190015</td><td style='text-align: left;'>540</td><td style='text-align: left;'>175</td></tr><tr><td style='text-align: left;'>2006-07-02 07:30:02</td><td style='text-align: left;'>2006-07-02 07:40:57</td><td style='text-align: left;'>SS 433</td><td style='text-align: left;'>00035190015</td><td style='text-align: left;'>480</td><td style='text-align: left;'>175</td></tr><tr><td style='text-align: left;'>2006-07-02 09:06:02</td><td style='text-align: left;'>2006-07-02 09:16:57</td><td style='text-align: left;'>SS 433</td><td style='text-align: left;'>00035190015</td><td style='text-align: left;'>480</td><td style='text-align: left;'>175</td></tr><tr><td style='text-align: left;'>2006-07-02 10:43:02</td><td style='text-align: left;'>2006-07-02 10:53:56</td><td style='text-align: left;'>SS 433</td><td style='text-align: left;'>00035190015</td><td style='text-align: left;'>480</td><td style='text-align: left;'>174</td></tr></table>"
      ],
      "text/plain": [
       "Swift_AFST(username='anonymous',radius='0.19666666666666668')"
      ]
     },
     "execution_count": 69,
     "metadata": {},
     "output_type": "execute_result"
    }
   ],
   "source": [
    "query.observations[\"00035190015\"].snapshots"
   ]
  },
  {
   "cell_type": "markdown",
   "metadata": {},
   "source": [
    "You can query the exposure and other infomation for the combined snapshots in the Observation ID."
   ]
  },
  {
   "cell_type": "code",
   "execution_count": 70,
   "metadata": {},
   "outputs": [
    {
     "data": {
      "text/plain": [
       "datetime.timedelta(seconds=7830)"
      ]
     },
     "execution_count": 70,
     "metadata": {},
     "output_type": "execute_result"
    }
   ],
   "source": [
    "query.observations[\"00035190015\"].exposure"
   ]
  },
  {
   "cell_type": "markdown",
   "metadata": {},
   "source": [
    "Note that the result here is a datetime timedelta object. You can easily get the seconds as an integer or convert to an astropy TimeDelta object."
   ]
  },
  {
   "cell_type": "code",
   "execution_count": 71,
   "metadata": {},
   "outputs": [
    {
     "data": {
      "text/plain": [
       "7830"
      ]
     },
     "execution_count": 71,
     "metadata": {},
     "output_type": "execute_result"
    }
   ],
   "source": [
    "query.observations[\"00035190015\"].exposure.seconds"
   ]
  },
  {
   "cell_type": "code",
   "execution_count": 72,
   "metadata": {},
   "outputs": [
    {
     "data": {
      "text/plain": [
       "<TimeDelta object: scale='None' format='datetime' value=2:10:30>"
      ]
     },
     "execution_count": 72,
     "metadata": {},
     "output_type": "execute_result"
    }
   ],
   "source": [
    "from astropy.time import TimeDelta\n",
    "\n",
    "TimeDelta(query.observations[\"00035190015\"].exposure)"
   ]
  },
  {
   "cell_type": "markdown",
   "metadata": {},
   "source": [
    "Note that there is no RA/Dec (ra/dec) for an observation, only the requested pointing direction (ra_point/dec_point), because actual RA/Dec will be different for each snapshot, so delve into the individual snapshots for those. "
   ]
  },
  {
   "cell_type": "code",
   "execution_count": 73,
   "metadata": {},
   "outputs": [
    {
     "data": {
      "text/plain": [
       "(287.9565, 4.982667)"
      ]
     },
     "execution_count": 73,
     "metadata": {},
     "output_type": "execute_result"
    }
   ],
   "source": [
    "query.observations[\"00035190015\"].ra_point, query.observations[\"00035190015\"].dec_point"
   ]
  },
  {
   "cell_type": "markdown",
   "metadata": {},
   "source": [
    "# Instrument Configuration \n",
    "\n",
    "All observations for a given Observation ID will have the same instrument configuration. Let's check those out."
   ]
  },
  {
   "cell_type": "code",
   "execution_count": 74,
   "metadata": {},
   "outputs": [
    {
     "name": "stdout",
     "output_type": "stream",
     "text": [
      "XRT mode = Auto, UVOT mode = 0x20ed\n"
     ]
    }
   ],
   "source": [
    "print(\n",
    "    f\"XRT mode = {query.observations['00035190015'].xrt}, UVOT mode = {query.observations['00035190015'].uvot}\"\n",
    ")"
   ]
  },
  {
   "cell_type": "markdown",
   "metadata": {},
   "source": [
    "In this case the XRT mode is `Auto`, which means that XRT itself decides whether to be in PC or WT mode, based on the brightness of sources in the central 200x200 pixels of the detector, roughly the central 8.5 arcmin x 8.5 arcmin box. Because of this we can't determine what mode XRT will have actually taken the data in without looking at it. However for many observation, the mode is fixed, here you will see results like so:"
   ]
  },
  {
   "cell_type": "code",
   "execution_count": 75,
   "metadata": {},
   "outputs": [
    {
     "name": "stdout",
     "output_type": "stream",
     "text": [
      "XRT mode = PC\n"
     ]
    }
   ],
   "source": [
    "print(f\"XRT mode = {query.observations['00035190037'].xrt}\")"
   ]
  },
  {
   "cell_type": "markdown",
   "metadata": {},
   "source": [
    "As this is PC mode, we can guarantee that the data are taken in PC mode.\n",
    "\n",
    "For UVOT the mode above is a hex number `0x20ed`. There are a large number of modes that can be used with UVOT, given it's many different combinations of filters, exposure windows, etc. Luckily you can query what this mode means using the `UVOT_mode` class. We can quickly display a table showing details of the mode as follows:"
   ]
  },
  {
   "cell_type": "code",
   "execution_count": 76,
   "metadata": {},
   "outputs": [
    {
     "data": {
      "text/html": [
       "<h2>UVOT Mode: 0x20ed</h2><p>The following table summarizes this mode, ordered by the filter sequence:</p><table id=\"modelist\" cellpadding=4 cellspacing=0><tr><th>Filter</th><th>Event FOV</th><th>Image FOV</th><th>Bin Size</th><th>Max. Exp. Time</th><th>Weighting</th><th>Comments</th></tr><tr\"><td>uvw1</td><td>None</td><td>17</td><td>2</td><td>540</td><td>1500</td><td>BLUE WEIGHTING</td></tr><tr\"><td>u</td><td>None</td><td>17</td><td>2</td><td>270</td><td>750</td><td>BLUE WEIGHTING</td></tr><tr\"><td>b</td><td>None</td><td>17</td><td>2</td><td>270</td><td>750</td><td>BLUE WEIGHTING</td></tr><tr\"><td>uvw2</td><td>17</td><td>None</td><td>None</td><td>None</td><td>3000</td><td>BLUE WEIGHTING</td></tr><tr\"><td>v</td><td>None</td><td>17</td><td>2</td><td>270</td><td>750</td><td>BLUE WEIGHTING</td></tr><tr\"><td>uvm2</td><td>17</td><td>None</td><td>None</td><td>None</td><td>2250</td><td>BLUE WEIGHTING</td></tr></table><p id=\"terms\"><small><b>Filter: </b>The particular filter in the sequence.<br><b>Event FOV: </b>The size of the FOV (in arc-minutes) for UVOT event data.<br><b>Image FOV: </b>The size of the FOV (in arc-minutes) for UVOT image data.<br><b>Max. Exp. Time: </b>The maximum amount of time the snapshot will spend on the particular filter in the sequence.<br><b>Weighting: </b>Ratio of time spent on the particular filter in the sequence.<br><b>Comments: </b>Additional notes that may be useful to know.<br></small></p>"
      ],
      "text/plain": [
       "Swift_UVOTMode(username='anonymous',uvotmode='0x20ed')"
      ]
     },
     "execution_count": 76,
     "metadata": {},
     "output_type": "execute_result"
    }
   ],
   "source": [
    "from swifttools.swift_too import UVOT_mode\n",
    "\n",
    "UVOT_mode(uvotmode=query.observations[\"00035190015\"].uvot)"
   ]
  },
  {
   "cell_type": "markdown",
   "metadata": {},
   "source": [
    "Finally: It's also important to remember that a specific UVOT mode does not guarantee data was taken with the expected filters, so always check the data."
   ]
  },
  {
   "cell_type": "markdown",
   "metadata": {},
   "source": [
    "# Querying by Time\n",
    "If instead of querying by position or target, you are interested in querying the *Swift* AFST by time of observation, for instance if you want to know where *Swift* was pointed at a given time, this can also be easily done (most of the time). You just define pass `begin` for your given time, without specifying `end`. `begin` should either be in `datetime` format, e.g. "
   ]
  },
  {
   "cell_type": "code",
   "execution_count": 77,
   "metadata": {},
   "outputs": [],
   "source": [
    "from datetime import datetime\n",
    "\n",
    "# define your time of interest\n",
    "timestamp = datetime(2021, 4, 19, 13, 35, 27)"
   ]
  },
  {
   "cell_type": "markdown",
   "metadata": {},
   "source": [
    "or you can just specify the timestamp in ISO format as a string, e.g."
   ]
  },
  {
   "cell_type": "code",
   "execution_count": 78,
   "metadata": {},
   "outputs": [],
   "source": [
    "timestamp = \"2021-04-19 13:35:27\""
   ]
  },
  {
   "cell_type": "markdown",
   "metadata": {},
   "source": [
    "You can even use an `astropy` `Time` class if you like, which is handy if you want to use time formats other than regular UT. Note that `swift_too` does not depend on `astropy`, so it returns values in datetime format for UT."
   ]
  },
  {
   "cell_type": "code",
   "execution_count": 79,
   "metadata": {},
   "outputs": [],
   "source": [
    "from astropy.time import Time\n",
    "\n",
    "timestamp = Time(59323.56629, format=\"mjd\")"
   ]
  },
  {
   "cell_type": "markdown",
   "metadata": {},
   "source": [
    "...noting that timestamps are in UT timezone. Note that whatever format you pass the date as, it will get converted internally to a UT `datetime.datetime`."
   ]
  },
  {
   "cell_type": "code",
   "execution_count": 80,
   "metadata": {},
   "outputs": [],
   "source": [
    "query = ObsQuery(begin=timestamp)"
   ]
  },
  {
   "cell_type": "code",
   "execution_count": 81,
   "metadata": {},
   "outputs": [
    {
     "name": "stdout",
     "output_type": "stream",
     "text": [
      "All Good!\n"
     ]
    }
   ],
   "source": [
    "if query.status.status == \"Accepted\":\n",
    "    print(\"All Good!\")\n",
    "else:\n",
    "    print(f\"Not good: {query.status}\")"
   ]
  },
  {
   "cell_type": "markdown",
   "metadata": {},
   "source": [
    "Ok, what did we get?"
   ]
  },
  {
   "cell_type": "code",
   "execution_count": 82,
   "metadata": {},
   "outputs": [
    {
     "data": {
      "text/html": [
       "<table><thead><th style='text-align: left;'>Begin Time</th><th style='text-align: left;'>End Time</th><th style='text-align: left;'>Target Name</th><th style='text-align: left;'>Observation Number</th><th style='text-align: left;'>Exposure (s)</th><th style='text-align: left;'>Slewtime (s)</th></thead><tr><td style='text-align: left;'>2021-04-19 13:34:02</td><td style='text-align: left;'>2021-04-19 13:46:56</td><td style='text-align: left;'>MCG+8-11-11</td><td style='text-align: left;'>00095943204</td><td style='text-align: left;'>605</td><td style='text-align: left;'>169</td></tr></table>"
      ],
      "text/plain": [
       "Swift_AFST(username='anonymous',begin='2021-04-19 13:35:27.456000',end='2021-04-19 13:35:27.456000',radius='0.19666666666666668')"
      ]
     },
     "execution_count": 82,
     "metadata": {},
     "output_type": "execute_result"
    }
   ],
   "source": [
    "query"
   ]
  },
  {
   "cell_type": "markdown",
   "metadata": {},
   "source": [
    "A single observation, that was performed during our time of interest, as expected. Show me the deets!"
   ]
  },
  {
   "cell_type": "code",
   "execution_count": 83,
   "metadata": {},
   "outputs": [
    {
     "name": "stdout",
     "output_type": "stream",
     "text": [
      "Swift pointing RA, Dec, Roll: (88.648, 46.428, 264.157)\n"
     ]
    }
   ],
   "source": [
    "print(f\"Swift pointing RA, Dec, Roll: {query[0].ra, query[0].dec, query[0].roll}\")"
   ]
  },
  {
   "cell_type": "markdown",
   "metadata": {},
   "source": [
    "But wait! This is the *settled* pointing, if your time of interest happens to be during the slew to this object, then these pointing coordinates are *not* valid."
   ]
  },
  {
   "cell_type": "code",
   "execution_count": 84,
   "metadata": {},
   "outputs": [
    {
     "name": "stdout",
     "output_type": "stream",
     "text": [
      "Swift was slewing during your time of interest. \n",
      "To get pointing information for this time, consult the attitude file associated with obsid 00095943204.\n"
     ]
    }
   ],
   "source": [
    "if timestamp > query[0].settle:\n",
    "    print(\"Good to go!\")\n",
    "else:\n",
    "    print(\n",
    "        f\"Swift was slewing during your time of interest. \\nTo get pointing information for this time, \\\n",
    "consult the attitude file associated with obsid {query[0].obsnum}.\"\n",
    "    )"
   ]
  },
  {
   "cell_type": "markdown",
   "metadata": {},
   "source": [
    "*Swift* is slewing ~15% of the time, so most of the time this method will quickly get you the answer you want."
   ]
  },
  {
   "cell_type": "markdown",
   "metadata": {},
   "source": [
    "You can of course query over a range of times, simply by specifying the `end` parameter, so:"
   ]
  },
  {
   "cell_type": "code",
   "execution_count": 85,
   "metadata": {},
   "outputs": [
    {
     "data": {
      "text/html": [
       "<table><thead><th style='text-align: left;'>Begin Time</th><th style='text-align: left;'>End Time</th><th style='text-align: left;'>Target Name</th><th style='text-align: left;'>Observation Number</th><th style='text-align: left;'>Exposure (s)</th><th style='text-align: left;'>Slewtime (s)</th></thead><tr><td style='text-align: left;'>2021-04-19 13:34:02</td><td style='text-align: left;'>2021-04-19 13:46:56</td><td style='text-align: left;'>MCG+8-11-11</td><td style='text-align: left;'>00095943204</td><td style='text-align: left;'>605</td><td style='text-align: left;'>169</td></tr><tr><td style='text-align: left;'>2021-04-19 13:47:01</td><td style='text-align: left;'>2021-04-19 14:08:58</td><td style='text-align: left;'>NGC4945 X-1</td><td style='text-align: left;'>00013908014</td><td style='text-align: left;'>1105</td><td style='text-align: left;'>212</td></tr><tr><td style='text-align: left;'>2021-04-19 14:09:02</td><td style='text-align: left;'>2021-04-19 14:23:00</td><td style='text-align: left;'>WASP-94a</td><td style='text-align: left;'>00013289109</td><td style='text-align: left;'>710</td><td style='text-align: left;'>128</td></tr><tr><td style='text-align: left;'>2021-04-19 14:23:02</td><td style='text-align: left;'>2021-04-19 14:35:00</td><td style='text-align: left;'>RX J2217.9-5941</td><td style='text-align: left;'>00095912001</td><td style='text-align: left;'>655</td><td style='text-align: left;'>63</td></tr><tr><td style='text-align: left;'>2021-04-19 14:35:02</td><td style='text-align: left;'>2021-04-19 14:53:57</td><td style='text-align: left;'>saa-cold-109-07</td><td style='text-align: left;'>00076301008</td><td style='text-align: left;'>1060</td><td style='text-align: left;'>75</td></tr><tr><td style='text-align: left;'>2021-04-19 14:54:01</td><td style='text-align: left;'>2021-04-19 15:00:48</td><td style='text-align: left;'></td><td style='text-align: left;'>01044032002</td><td style='text-align: left;'>315</td><td style='text-align: left;'>92</td></tr><tr><td style='text-align: left;'>2021-04-19 15:00:50</td><td style='text-align: left;'>2021-04-19 15:04:00</td><td style='text-align: left;'>FAIRALL 1116</td><td style='text-align: left;'>00095839002</td><td style='text-align: left;'>125</td><td style='text-align: left;'>65</td></tr><tr><td style='text-align: left;'>2021-04-19 15:04:02</td><td style='text-align: left;'>2021-04-19 15:14:00</td><td style='text-align: left;'>SN2021iyt</td><td style='text-align: left;'>00014264003</td><td style='text-align: left;'>450</td><td style='text-align: left;'>148</td></tr><tr><td style='text-align: left;'>2021-04-19 15:14:02</td><td style='text-align: left;'>2021-04-19 15:33:57</td><td style='text-align: left;'>MRK 817</td><td style='text-align: left;'>00096066019</td><td style='text-align: left;'>1065</td><td style='text-align: left;'>130</td></tr><tr><td style='text-align: left;'>2021-04-19 15:34:02</td><td style='text-align: left;'>2021-04-19 15:50:01</td><td style='text-align: left;'>ZTF20achpcvt</td><td style='text-align: left;'>00013976010</td><td style='text-align: left;'>890</td><td style='text-align: left;'>69</td></tr><tr><td style='text-align: left;'>2021-04-19 15:50:02</td><td style='text-align: left;'>2021-04-19 16:02:59</td><td style='text-align: left;'>RX J2216.8-4451</td><td style='text-align: left;'>00095911001</td><td style='text-align: left;'>600</td><td style='text-align: left;'>177</td></tr></table>"
      ],
      "text/plain": [
       "Swift_AFST(username='anonymous',begin='2021-04-19 13:35:27.456000',end='2021-04-19 15:59:27.456000',radius='0.19666666666666668')"
      ]
     },
     "execution_count": 85,
     "metadata": {},
     "output_type": "execute_result"
    }
   ],
   "source": [
    "ObsQuery(begin=timestamp, end=Time(59323.56629 + 0.1, format=\"mjd\"))"
   ]
  },
  {
   "cell_type": "markdown",
   "metadata": {},
   "source": [
    "As an alternative, you can also request the length of time to return. This by default is the number of days, so `length=1` will return 1 days of results, however you can also pass a `datetime.timedelta` object or astropy `TimeDelta` if you like. Here's how we fetch the first hour of observations on MJD 59000."
   ]
  },
  {
   "cell_type": "code",
   "execution_count": 86,
   "metadata": {},
   "outputs": [
    {
     "data": {
      "text/html": [
       "<table><thead><th style='text-align: left;'>Begin Time</th><th style='text-align: left;'>End Time</th><th style='text-align: left;'>Target Name</th><th style='text-align: left;'>Observation Number</th><th style='text-align: left;'>Exposure (s)</th><th style='text-align: left;'>Slewtime (s)</th></thead><tr><td style='text-align: left;'>2020-05-31 00:00:02</td><td style='text-align: left;'>2020-05-31 00:04:58</td><td style='text-align: left;'>Rup 106</td><td style='text-align: left;'>00084128003</td><td style='text-align: left;'>170</td><td style='text-align: left;'>126</td></tr><tr><td style='text-align: left;'>2020-05-31 00:05:02</td><td style='text-align: left;'>2020-05-31 00:17:58</td><td style='text-align: left;'>MAXI J1348-630</td><td style='text-align: left;'>00011107082</td><td style='text-align: left;'>725</td><td style='text-align: left;'>51</td></tr><tr><td style='text-align: left;'>2020-05-31 00:18:02</td><td style='text-align: left;'>2020-05-31 00:23:59</td><td style='text-align: left;'>ZTF20abcdrsm</td><td style='text-align: left;'>00013514002</td><td style='text-align: left;'>180</td><td style='text-align: left;'>177</td></tr><tr><td style='text-align: left;'>2020-05-31 00:24:02</td><td style='text-align: left;'>2020-05-31 00:40:59</td><td style='text-align: left;'>V404 Cyg</td><td style='text-align: left;'>00031403170</td><td style='text-align: left;'>930</td><td style='text-align: left;'>87</td></tr><tr><td style='text-align: left;'>2020-05-31 00:41:02</td><td style='text-align: left;'>2020-05-31 00:53:58</td><td style='text-align: left;'>SGPS J1703.9-4125</td><td style='text-align: left;'>03110772005</td><td style='text-align: left;'>625</td><td style='text-align: left;'>151</td></tr><tr><td style='text-align: left;'>2020-05-31 00:54:03</td><td style='text-align: left;'>2020-05-31 01:00:00</td><td style='text-align: left;'>4FGL J1810.8-3347</td><td style='text-align: left;'>03110330001</td><td style='text-align: left;'>285</td><td style='text-align: left;'>72</td></tr></table>"
      ],
      "text/plain": [
       "Swift_AFST(username='anonymous',begin='2020-05-31 00:00:00',end='2020-05-31 01:00:00',radius='0.19666666666666668')"
      ]
     },
     "execution_count": 86,
     "metadata": {},
     "output_type": "execute_result"
    }
   ],
   "source": [
    "ObsQuery(begin=Time(59000, format=\"mjd\"), length=TimeDelta(3600, format=\"sec\"))"
   ]
  },
  {
   "cell_type": "markdown",
   "metadata": {},
   "source": [
    "# Querying by Target ID and Observation Number\n",
    "\n",
    "Target ID is the number assigned to a specific target, so if you have that number and you want to see how often a target with that target ID has been observation, you can specify it in the search. Note that some targets have mulitple target IDs assigned to them, so we always recommend doing an RA/Dec search if you want to know about all the observations that have been taken."
   ]
  },
  {
   "cell_type": "code",
   "execution_count": 87,
   "metadata": {},
   "outputs": [],
   "source": [
    "query = ObsQuery(targetid=35000)"
   ]
  },
  {
   "cell_type": "code",
   "execution_count": 88,
   "metadata": {},
   "outputs": [
    {
     "data": {
      "text/html": [
       "<table><thead><th style='text-align: left;'>Begin Time</th><th style='text-align: left;'>End Time</th><th style='text-align: left;'>Target Name</th><th style='text-align: left;'>Observation Number</th><th style='text-align: left;'>Exposure (s)</th><th style='text-align: left;'>Slewtime (s)</th></thead><tr><td style='text-align: left;'>2005-06-09 17:53:02</td><td style='text-align: left;'>2005-06-09 18:11:01</td><td style='text-align: left;'>1ES 0120+340</td><td style='text-align: left;'>00035000001</td><td style='text-align: left;'>955</td><td style='text-align: left;'>124</td></tr><tr><td style='text-align: left;'>2005-06-09 19:28:02</td><td style='text-align: left;'>2005-06-09 19:47:59</td><td style='text-align: left;'>1ES 0120+340</td><td style='text-align: left;'>00035000001</td><td style='text-align: left;'>990</td><td style='text-align: left;'>207</td></tr><tr><td style='text-align: left;'>2006-07-06 08:47:02</td><td style='text-align: left;'>2006-07-06 09:01:59</td><td style='text-align: left;'>1ES 0120+340</td><td style='text-align: left;'>00035000002</td><td style='text-align: left;'>825</td><td style='text-align: left;'>72</td></tr><tr><td style='text-align: left;'>2006-07-06 10:23:02</td><td style='text-align: left;'>2006-07-06 10:37:57</td><td style='text-align: left;'>1ES 0120+340</td><td style='text-align: left;'>00035000002</td><td style='text-align: left;'>825</td><td style='text-align: left;'>70</td></tr><tr><td style='text-align: left;'>2006-07-06 11:57:02</td><td style='text-align: left;'>2006-07-06 12:08:59</td><td style='text-align: left;'>1ES 0120+340</td><td style='text-align: left;'>00035000002</td><td style='text-align: left;'>560</td><td style='text-align: left;'>157</td></tr><tr><td style='text-align: left;'>2006-07-06 13:34:02</td><td style='text-align: left;'>2006-07-06 13:45:59</td><td style='text-align: left;'>1ES 0120+340</td><td style='text-align: left;'>00035000002</td><td style='text-align: left;'>560</td><td style='text-align: left;'>157</td></tr><tr><td style='text-align: left;'>2006-07-06 15:10:02</td><td style='text-align: left;'>2006-07-06 15:21:59</td><td style='text-align: left;'>1ES 0120+340</td><td style='text-align: left;'>00035000002</td><td style='text-align: left;'>560</td><td style='text-align: left;'>157</td></tr><tr><td style='text-align: left;'>2006-07-06 16:47:02</td><td style='text-align: left;'>2006-07-06 17:01:59</td><td style='text-align: left;'>1ES 0120+340</td><td style='text-align: left;'>00035000002</td><td style='text-align: left;'>740</td><td style='text-align: left;'>157</td></tr><tr><td style='text-align: left;'>2006-07-06 18:23:02</td><td style='text-align: left;'>2006-07-06 18:37:59</td><td style='text-align: left;'>1ES 0120+340</td><td style='text-align: left;'>00035000002</td><td style='text-align: left;'>740</td><td style='text-align: left;'>157</td></tr><tr><td style='text-align: left;'>2006-07-06 19:59:02</td><td style='text-align: left;'>2006-07-06 20:13:59</td><td style='text-align: left;'>1ES 0120+340</td><td style='text-align: left;'>00035000002</td><td style='text-align: left;'>740</td><td style='text-align: left;'>157</td></tr><tr><td style='text-align: left;'>2006-07-10 13:57:02</td><td style='text-align: left;'>2006-07-10 14:08:01</td><td style='text-align: left;'>1ES 0120+340</td><td style='text-align: left;'>00035000003</td><td style='text-align: left;'>500</td><td style='text-align: left;'>159</td></tr><tr><td style='text-align: left;'>2006-07-10 15:33:02</td><td style='text-align: left;'>2006-07-10 15:44:01</td><td style='text-align: left;'>1ES 0120+340</td><td style='text-align: left;'>00035000003</td><td style='text-align: left;'>500</td><td style='text-align: left;'>159</td></tr><tr><td style='text-align: left;'>2006-07-10 17:10:02</td><td style='text-align: left;'>2006-07-10 17:21:01</td><td style='text-align: left;'>1ES 0120+340</td><td style='text-align: left;'>00035000003</td><td style='text-align: left;'>500</td><td style='text-align: left;'>159</td></tr><tr><td style='text-align: left;'>2006-07-10 18:46:02</td><td style='text-align: left;'>2006-07-10 18:57:01</td><td style='text-align: left;'>1ES 0120+340</td><td style='text-align: left;'>00035000003</td><td style='text-align: left;'>500</td><td style='text-align: left;'>159</td></tr><tr><td style='text-align: left;'>2006-07-10 23:35:02</td><td style='text-align: left;'>2006-07-10 23:46:01</td><td style='text-align: left;'>1ES 0120+340</td><td style='text-align: left;'>00035000003</td><td style='text-align: left;'>500</td><td style='text-align: left;'>159</td></tr><tr><td style='text-align: left;'>2007-09-07 15:05:01</td><td style='text-align: left;'>2007-09-07 15:14:58</td><td style='text-align: left;'>1ES0120+340</td><td style='text-align: left;'>00035000005</td><td style='text-align: left;'>515</td><td style='text-align: left;'>82</td></tr><tr><td style='text-align: left;'>2007-09-07 18:18:01</td><td style='text-align: left;'>2007-09-07 18:27:58</td><td style='text-align: left;'>1ES0120+340</td><td style='text-align: left;'>00035000005</td><td style='text-align: left;'>515</td><td style='text-align: left;'>82</td></tr><tr><td style='text-align: left;'>2007-09-11 18:41:01</td><td style='text-align: left;'>2007-09-11 18:50:56</td><td style='text-align: left;'>1ES0120+340</td><td style='text-align: left;'>00035000006</td><td style='text-align: left;'>525</td><td style='text-align: left;'>70</td></tr><tr><td style='text-align: left;'>2007-09-12 18:47:01</td><td style='text-align: left;'>2007-09-12 18:56:56</td><td style='text-align: left;'>1ES0120+340</td><td style='text-align: left;'>00035000007</td><td style='text-align: left;'>525</td><td style='text-align: left;'>70</td></tr><tr><td style='text-align: left;'>2007-09-13 18:53:01</td><td style='text-align: left;'>2007-09-13 19:02:56</td><td style='text-align: left;'>1ES0120+340</td><td style='text-align: left;'>00035000008</td><td style='text-align: left;'>525</td><td style='text-align: left;'>70</td></tr><tr><td style='text-align: left;'>2007-09-14 18:56:01</td><td style='text-align: left;'>2007-09-14 19:08:59</td><td style='text-align: left;'>1ES0120+340</td><td style='text-align: left;'>00035000004</td><td style='text-align: left;'>705</td><td style='text-align: left;'>73</td></tr><tr><td style='text-align: left;'>2007-09-15 07:51:01</td><td style='text-align: left;'>2007-09-15 08:02:59</td><td style='text-align: left;'>1ES0120+340</td><td style='text-align: left;'>00035000009</td><td style='text-align: left;'>650</td><td style='text-align: left;'>68</td></tr><tr><td style='text-align: left;'>2007-09-17 04:56:01</td><td style='text-align: left;'>2007-09-17 05:07:58</td><td style='text-align: left;'>1ES0120+340</td><td style='text-align: left;'>00035000009</td><td style='text-align: left;'>650</td><td style='text-align: left;'>67</td></tr><tr><td style='text-align: left;'>2007-09-27 23:35:01</td><td style='text-align: left;'>2007-09-27 23:50:00</td><td style='text-align: left;'>1ES0120+340</td><td style='text-align: left;'>00035000010</td><td style='text-align: left;'>760</td><td style='text-align: left;'>139</td></tr><tr><td style='text-align: left;'>2007-10-27 08:39:02</td><td style='text-align: left;'>2007-10-27 08:59:00</td><td style='text-align: left;'>1ES0120+340</td><td style='text-align: left;'>00035000011</td><td style='text-align: left;'>1055</td><td style='text-align: left;'>143</td></tr><tr><td style='text-align: left;'>2007-10-27 10:15:02</td><td style='text-align: left;'>2007-10-27 10:25:00</td><td style='text-align: left;'>1ES0120+340</td><td style='text-align: left;'>00035000011</td><td style='text-align: left;'>455</td><td style='text-align: left;'>143</td></tr><tr><td style='text-align: left;'>2007-11-09 01:53:02</td><td style='text-align: left;'>2007-11-09 02:05:57</td><td style='text-align: left;'>1ES0120+340</td><td style='text-align: left;'>00035000013</td><td style='text-align: left;'>600</td><td style='text-align: left;'>175</td></tr><tr><td style='text-align: left;'>2007-11-09 03:27:02</td><td style='text-align: left;'>2007-11-09 03:39:57</td><td style='text-align: left;'>1ES0120+340</td><td style='text-align: left;'>00035000013</td><td style='text-align: left;'>600</td><td style='text-align: left;'>175</td></tr><tr><td style='text-align: left;'>2007-11-09 05:06:02</td><td style='text-align: left;'>2007-11-09 05:23:59</td><td style='text-align: left;'>1ES0120+340</td><td style='text-align: left;'>00035000013</td><td style='text-align: left;'>935</td><td style='text-align: left;'>142</td></tr><tr><td style='text-align: left;'>2007-11-16 06:16:02</td><td style='text-align: left;'>2007-11-16 06:21:01</td><td style='text-align: left;'>1ES0120+340</td><td style='text-align: left;'>00035000014</td><td style='text-align: left;'>235</td><td style='text-align: left;'>64</td></tr><tr><td style='text-align: left;'>2007-11-16 09:26:02</td><td style='text-align: left;'>2007-11-16 09:30:59</td><td style='text-align: left;'>1ES0120+340</td><td style='text-align: left;'>00035000014</td><td style='text-align: left;'>235</td><td style='text-align: left;'>62</td></tr><tr><td style='text-align: left;'>2007-11-16 11:02:02</td><td style='text-align: left;'>2007-11-16 11:06:59</td><td style='text-align: left;'>1ES0120+340</td><td style='text-align: left;'>00035000014</td><td style='text-align: left;'>230</td><td style='text-align: left;'>67</td></tr><tr><td style='text-align: left;'>2007-11-16 12:39:02</td><td style='text-align: left;'>2007-11-16 12:43:59</td><td style='text-align: left;'>1ES0120+340</td><td style='text-align: left;'>00035000014</td><td style='text-align: left;'>235</td><td style='text-align: left;'>62</td></tr><tr><td style='text-align: left;'>2007-11-16 14:15:02</td><td style='text-align: left;'>2007-11-16 14:19:59</td><td style='text-align: left;'>1ES0120+340</td><td style='text-align: left;'>00035000014</td><td style='text-align: left;'>230</td><td style='text-align: left;'>67</td></tr><tr><td style='text-align: left;'>2007-11-16 15:51:02</td><td style='text-align: left;'>2007-11-16 15:55:57</td><td style='text-align: left;'>1ES0120+340</td><td style='text-align: left;'>00035000014</td><td style='text-align: left;'>235</td><td style='text-align: left;'>60</td></tr><tr><td style='text-align: left;'>2013-10-08 21:51:02</td><td style='text-align: left;'>2013-10-08 22:20:59</td><td style='text-align: left;'>1ES 0120+340</td><td style='text-align: left;'>00035000015</td><td style='text-align: left;'>1710</td><td style='text-align: left;'>87</td></tr><tr><td style='text-align: left;'>2013-10-08 23:44:02</td><td style='text-align: left;'>2013-10-08 23:55:00</td><td style='text-align: left;'>1ES 0120+340</td><td style='text-align: left;'>00035000015</td><td style='text-align: left;'>595</td><td style='text-align: left;'>63</td></tr></table>"
      ],
      "text/plain": [
       "Swift_AFST(username='anonymous',radius='0.19666666666666668',targetid='35000')"
      ]
     },
     "execution_count": 88,
     "metadata": {},
     "output_type": "execute_result"
    }
   ],
   "source": [
    "query"
   ]
  },
  {
   "cell_type": "markdown",
   "metadata": {},
   "source": [
    "You can also query by Observation Number. This number comes in two formats, the SDC format, which is always a 11 character long string consisting of the target ID (8 characters) and segment (3 characters) with leading zeros. So for a target ID 35000 and segment 7, the SDC format is `00035000007`. The other format is the one used by Swift itself, in which the observation number is a 32-bit word, in which the target ID is the lower three bytes, and the segment number is the highest significance byte. Here's a demonstration of how this works:"
   ]
  },
  {
   "cell_type": "code",
   "execution_count": 89,
   "metadata": {},
   "outputs": [
    {
     "name": "stdout",
     "output_type": "stream",
     "text": [
      "SDC format: 00035000007 Swift format: 117475512\n"
     ]
    }
   ],
   "source": [
    "targetid = 35000\n",
    "segment = 7\n",
    "obsnum = f\"{targetid:08}{segment:03}\"\n",
    "obsnumsc = targetid + (segment << 24)\n",
    "print(f\"SDC format: {obsnum} Swift format: {obsnumsc}\")"
   ]
  },
  {
   "cell_type": "markdown",
   "metadata": {},
   "source": [
    "Either can be used, but if the SDC format is desired, it must be passed as a string."
   ]
  },
  {
   "cell_type": "code",
   "execution_count": 90,
   "metadata": {},
   "outputs": [
    {
     "data": {
      "text/html": [
       "<table><thead><th style='text-align: left;'>Begin Time</th><th style='text-align: left;'>End Time</th><th style='text-align: left;'>Target Name</th><th style='text-align: left;'>Observation Number</th><th style='text-align: left;'>Exposure (s)</th><th style='text-align: left;'>Slewtime (s)</th></thead><tr><td style='text-align: left;'>2007-09-12 18:47:01</td><td style='text-align: left;'>2007-09-12 18:56:56</td><td style='text-align: left;'>1ES0120+340</td><td style='text-align: left;'>00035000007</td><td style='text-align: left;'>525</td><td style='text-align: left;'>70</td></tr></table>"
      ],
      "text/plain": [
       "Swift_AFST(username='anonymous',radius='0.19666666666666668',targetid='35000',obsnum='00035000007')"
      ]
     },
     "execution_count": 90,
     "metadata": {},
     "output_type": "execute_result"
    }
   ],
   "source": [
    "ObsQuery(obsnum=\"00035000007\")"
   ]
  },
  {
   "cell_type": "code",
   "execution_count": 91,
   "metadata": {},
   "outputs": [
    {
     "data": {
      "text/html": [
       "<table><thead><th style='text-align: left;'>Begin Time</th><th style='text-align: left;'>End Time</th><th style='text-align: left;'>Target Name</th><th style='text-align: left;'>Observation Number</th><th style='text-align: left;'>Exposure (s)</th><th style='text-align: left;'>Slewtime (s)</th></thead><tr><td style='text-align: left;'>2007-09-12 18:47:01</td><td style='text-align: left;'>2007-09-12 18:56:56</td><td style='text-align: left;'>1ES0120+340</td><td style='text-align: left;'>00035000007</td><td style='text-align: left;'>525</td><td style='text-align: left;'>70</td></tr></table>"
      ],
      "text/plain": [
       "Swift_AFST(username='anonymous',radius='0.19666666666666668',targetid='35000',obsnum='00035000007')"
      ]
     },
     "execution_count": 91,
     "metadata": {},
     "output_type": "execute_result"
    }
   ],
   "source": [
    "ObsQuery(obsnum=117475512)"
   ]
  },
  {
   "cell_type": "markdown",
   "metadata": {},
   "source": [
    "Note that the TOO API internally stores as `targetid` and `segment`, but transparanently converts it for you."
   ]
  },
  {
   "cell_type": "markdown",
   "metadata": {},
   "source": [
    "### A note about time formats\n",
    "\n",
    "#### New features in `swifttools` 2.4\n",
    "\n",
    "All times returned by `ObsQuery` come out in a time system that is derived from Swift's internal clock. The problem with this is that this clock, although close to UTC, is not actually UTC, due to the lack of handling of leap seconds, and also a slow drift in the clock itself. However, you can now correct this using the `clock_correct()` method. Let's do that:"
   ]
  },
  {
   "cell_type": "code",
   "execution_count": 92,
   "metadata": {},
   "outputs": [
    {
     "data": {
      "text/html": [
       "<table><thead><th style='text-align: left;'>Begin Time</th><th style='text-align: left;'>End Time</th><th style='text-align: left;'>Target Name</th><th style='text-align: left;'>Observation Number</th><th style='text-align: left;'>Exposure (s)</th><th style='text-align: left;'>Slewtime (s)</th></thead><tr><td style='text-align: left;'>2019-12-01 03:28:02</td><td style='text-align: left;'>2019-12-01 03:45:58</td><td style='text-align: left;'>C/2019 Q4 Borisov</td><td style='text-align: left;'>00012345003</td><td style='text-align: left;'>1060</td><td style='text-align: left;'>16</td></tr></table>"
      ],
      "text/plain": [
       "Swift_AFST(username='anonymous',radius='0.19666666666666668',targetid='12345')"
      ]
     },
     "execution_count": 92,
     "metadata": {},
     "output_type": "execute_result"
    }
   ],
   "source": [
    "query = ObsQuery(targetid=12345)\n",
    "query"
   ]
  },
  {
   "cell_type": "code",
   "execution_count": 93,
   "metadata": {},
   "outputs": [
    {
     "data": {
      "text/html": [
       "<table><thead><th style='text-align: left;'>Begin Time (UTC)</th><th style='text-align: left;'>End Time (UTC)</th><th style='text-align: left;'>Target Name</th><th style='text-align: left;'>Observation Number</th><th style='text-align: left;'>Exposure (s)</th><th style='text-align: left;'>Slewtime (s)</th></thead><tr><td style='text-align: left;'>2019-12-01 03:27:37.987682</td><td style='text-align: left;'>2019-12-01 03:45:33.987612</td><td style='text-align: left;'>C/2019 Q4 Borisov</td><td style='text-align: left;'>00012345003</td><td style='text-align: left;'>1059</td><td style='text-align: left;'>15</td></tr></table>"
      ],
      "text/plain": [
       "Swift_AFST(username='anonymous',radius='0.19666666666666668',targetid='12345')"
      ]
     },
     "execution_count": 93,
     "metadata": {},
     "output_type": "execute_result"
    }
   ],
   "source": [
    "query.clock_correct()\n",
    "query"
   ]
  },
  {
   "cell_type": "markdown",
   "metadata": {},
   "source": [
    "So the table above now shows times that are specifically labelled as UTC. You'll note that the times now have fractions of a second, which is due to the clock correction that is applied. You can see the value of this clock correction (which includes both leap seconds and clock drift corrections), by looking at one of the date values, e.g.:"
   ]
  },
  {
   "cell_type": "code",
   "execution_count": 94,
   "metadata": {},
   "outputs": [
    {
     "data": {
      "text/html": [
       "<table><thead><th style='text-align: left;'>MET (s)</th><th style='text-align: left;'>Swift Time</th><th style='text-align: left;'>UTC Time (default)</th><th style='text-align: left;'>UTCF (s)</th></thead><tr><td style='text-align: left;'>596863682.0</td><td style='text-align: left;'>2019-12-01 03:28:02</td><td style='text-align: left;'>2019-12-01 03:27:37.987682</td><td style='text-align: left;'>-24.012318</td></tr></table>"
      ],
      "text/plain": [
       "swiftdatetime(2019, 12, 1, 3, 27, 37, 987682, isutc=True, utcf=-24.012318)"
      ]
     },
     "execution_count": 94,
     "metadata": {},
     "output_type": "execute_result"
    }
   ],
   "source": [
    "query[0].begin"
   ]
  },
  {
   "cell_type": "markdown",
   "metadata": {},
   "source": [
    "So for this observation, the UT Correction Factor (UTCF) is -24.012318s. For more detail on this correction, please take a look at the `Swift_Clock` and the notebook explaining that."
   ]
  }
 ],
 "metadata": {
  "kernelspec": {
   "display_name": "Python 3",
   "language": "python",
   "name": "python3"
  },
  "language_info": {
   "codemirror_mode": {
    "name": "ipython",
    "version": 3
   },
   "file_extension": ".py",
   "mimetype": "text/x-python",
   "name": "python",
   "nbconvert_exporter": "python",
   "pygments_lexer": "ipython3",
   "version": "3.11.0"
  },
  "vscode": {
   "interpreter": {
    "hash": "4fe912ff22c49d68256bc00c53cb9ca93e51b3f7ad5839bda484e18b40e62e3e"
   }
  }
 },
 "nbformat": 4,
 "nbformat_minor": 4
}
