{
 "cells": [
  {
   "cell_type": "markdown",
   "id": "10c30734",
   "metadata": {},
   "source": [
    "# `swift_too` module\n",
    "\n",
    "## Swift_TOO_Requests example - querying planned *Swift* observations\n",
    "\n",
    "### API version = 1.2, `swifttools` version = 2.4\n",
    "\n",
    "#### Author: Jamie A. Kennea (Penn State)\n",
    "\n",
    "The `Swift_TOO_Requests` (or shorthand as of `swifttools` 2.3, `TOORequests`) allows the user to query submitted Swift TOO requests. This can be used either to retrieve detail on requests that you have submitted, or details on all TOO requests.\n",
    "\n",
    "Two important caveats:\n",
    "\n",
    "1. Detailed information on TOOs, including Science Justification text are only retrievable if you are the TOO submitter.\n",
    "\n",
    "2. Only details of approved TOO requests are available. TOOs that have been rejected cannot be fetched.\n",
    "\n",
    "This is therefore useful if you wish to retrieve what you have previously submitted, or see what the current active TOOs are, so you can see if someone has already submitted a TOO for the target you are interested in."
   ]
  },
  {
   "cell_type": "code",
   "execution_count": 1,
   "id": "4707436d",
   "metadata": {},
   "outputs": [],
   "source": [
    "from swifttools.swift_too import TOORequests"
   ]
  },
  {
   "cell_type": "markdown",
   "id": "bc24d815",
   "metadata": {},
   "source": [
    "### First example - the 20 most recent Swift TOO requests\n",
    "\n",
    "In this example we request information on the last 20 TOO requests approved for observation by Swift. No username or shared_secret needs to be submitted for this request, however if you do submit them the result will be no different. "
   ]
  },
  {
   "cell_type": "code",
   "execution_count": 2,
   "id": "4a1696d9",
   "metadata": {},
   "outputs": [],
   "source": [
    "toos = TOORequests(limit=20)"
   ]
  },
  {
   "cell_type": "code",
   "execution_count": 3,
   "id": "bbaa5569",
   "metadata": {},
   "outputs": [
    {
     "name": "stdout",
     "output_type": "stream",
     "text": [
      "Success!\n"
     ]
    }
   ],
   "source": [
    "if toos.submit():\n",
    "    print(\"Success!\")\n",
    "else:\n",
    "    print(\"Failure: {toos.status.errors}\")"
   ]
  },
  {
   "cell_type": "markdown",
   "id": "aca5818a",
   "metadata": {},
   "source": [
    "That should have worked, so we can now display the 20 most recent approved Swift TOOs by simply display"
   ]
  },
  {
   "cell_type": "code",
   "execution_count": 4,
   "id": "5bd376d9",
   "metadata": {},
   "outputs": [
    {
     "data": {
      "text/html": [
       "<table><thead><th style='text-align: left;'>ToO ID</th><th style='text-align: left;'>Object Name</th><th style='text-align: left;'>Instrument</th><th style='text-align: left;'>Right Ascenscion (J2000)</th><th style='text-align: left;'>Declination (J2000)</th><th style='text-align: left;'>UVOT Mode (Approved)</th><th style='text-align: left;'>XRT Mode (Approved)</th><th style='text-align: left;'>Time Submitted</th><th style='text-align: left;'>Requester</th><th style='text-align: left;'>Urgency</th><th style='text-align: left;'>Begin date</th><th style='text-align: left;'>End date</th><th style='text-align: left;'>Primary Target ID</th></thead><tr><td style='text-align: left;'>18522</td><td style='text-align: left;'>None</td><td style='text-align: left;'>XRT</td><td style='text-align: left;'>134.0485</td><td style='text-align: left;'>-3.325531</td><td style='text-align: left;'>0x223f</td><td style='text-align: left;'>PC</td><td style='text-align: left;'>2023-03-06 19:49:13</td><td style='text-align: left;'>Sand</td><td style='text-align: left;'>3</td><td style='text-align: left;'>2023-03-10</td><td style='text-align: left;'>2023-03-18</td><td style='text-align: left;'>15865</td></tr><tr><td style='text-align: left;'>18520</td><td style='text-align: left;'>None</td><td style='text-align: left;'>UVOT</td><td style='text-align: left;'>93.932991666667</td><td style='text-align: left;'>28.585715</td><td style='text-align: left;'>0x011e</td><td style='text-align: left;'>PC</td><td style='text-align: left;'>2023-03-06 01:31:51</td><td style='text-align: left;'>Tovmassian</td><td style='text-align: left;'>3</td><td style='text-align: left;'>2023-03-08</td><td style='text-align: left;'>2023-03-08</td><td style='text-align: left;'>38846</td></tr><tr><td style='text-align: left;'>18519</td><td style='text-align: left;'>None</td><td style='text-align: left;'>XRT</td><td style='text-align: left;'>278.634</td><td style='text-align: left;'>-2.13</td><td style='text-align: left;'>0x9999</td><td style='text-align: left;'>PC</td><td style='text-align: left;'>2023-03-05 20:53:56</td><td style='text-align: left;'>Negoro</td><td style='text-align: left;'>3</td><td style='text-align: left;'>2023-03-06</td><td style='text-align: left;'>2023-03-06</td><td style='text-align: left;'>15908</td></tr><tr><td style='text-align: left;'>18518</td><td style='text-align: left;'>None</td><td style='text-align: left;'>XRT</td><td style='text-align: left;'>273.16526</td><td style='text-align: left;'>-22.32362</td><td style='text-align: left;'>0x9999</td><td style='text-align: left;'>PC</td><td style='text-align: left;'>2023-03-03 09:03:45</td><td style='text-align: left;'>Del Santo</td><td style='text-align: left;'>3</td><td style='text-align: left;'>2023-03-08</td><td style='text-align: left;'>2023-04-10</td><td style='text-align: left;'>11105</td></tr><tr><td style='text-align: left;'>18517</td><td style='text-align: left;'>None</td><td style='text-align: left;'>XRT</td><td style='text-align: left;'>90.287167</td><td style='text-align: left;'>-23.666619</td><td style='text-align: left;'>0x223f</td><td style='text-align: left;'>PC</td><td style='text-align: left;'>2023-03-02 12:29:55</td><td style='text-align: left;'>Pellegrino</td><td style='text-align: left;'>3</td><td style='text-align: left;'>2023-03-09</td><td style='text-align: left;'>2023-03-09</td><td style='text-align: left;'>15287</td></tr><tr><td style='text-align: left;'>18516</td><td style='text-align: left;'>None</td><td style='text-align: left;'>XRT</td><td style='text-align: left;'>195.69856</td><td style='text-align: left;'>-63.835729444444</td><td style='text-align: left;'>None</td><td style='text-align: left;'>PC</td><td style='text-align: left;'>2023-03-02 11:36:48</td><td style='text-align: left;'>Marino</td><td style='text-align: left;'>3</td><td style='text-align: left;'>2023-03-07</td><td style='text-align: left;'>2023-03-14</td><td style='text-align: left;'>30966</td></tr><tr><td style='text-align: left;'>18515</td><td style='text-align: left;'>None</td><td style='text-align: left;'>XRT</td><td style='text-align: left;'>212.4245</td><td style='text-align: left;'>55.491139</td><td style='text-align: left;'>0x018c</td><td style='text-align: left;'>PC</td><td style='text-align: left;'>2023-03-02 09:35:58</td><td style='text-align: left;'>Quintin</td><td style='text-align: left;'>4</td><td style='text-align: left;'>2023-03-08</td><td style='text-align: left;'>2023-03-14</td><td style='text-align: left;'>11397</td></tr><tr><td style='text-align: left;'>18514</td><td style='text-align: left;'>None</td><td style='text-align: left;'>XRT</td><td style='text-align: left;'>100.72970833333</td><td style='text-align: left;'>55.474222222222</td><td style='text-align: left;'>0x308f</td><td style='text-align: left;'>PC</td><td style='text-align: left;'>2023-03-02 09:21:12</td><td style='text-align: left;'>Masetti</td><td style='text-align: left;'>3</td><td style='text-align: left;'>2023-03-07</td><td style='text-align: left;'>2023-04-07</td><td style='text-align: left;'>34150</td></tr><tr><td style='text-align: left;'>18513</td><td style='text-align: left;'>None</td><td style='text-align: left;'>XRT</td><td style='text-align: left;'>175.03935</td><td style='text-align: left;'>15.32751</td><td style='text-align: left;'>None</td><td style='text-align: left;'>PC</td><td style='text-align: left;'>2023-03-02 00:29:12</td><td style='text-align: left;'>Sfaradi</td><td style='text-align: left;'>3</td><td style='text-align: left;'>2023-02-27</td><td style='text-align: left;'>2023-03-17</td><td style='text-align: left;'>15897</td></tr><tr><td style='text-align: left;'>18512</td><td style='text-align: left;'>None</td><td style='text-align: left;'>XRT</td><td style='text-align: left;'>81.325541666667</td><td style='text-align: left;'>-46.005638888889</td><td style='text-align: left;'>0x223f</td><td style='text-align: left;'>PC</td><td style='text-align: left;'>2023-03-01 21:04:38</td><td style='text-align: left;'>Huang</td><td style='text-align: left;'>3</td><td style='text-align: left;'>2023-03-13</td><td style='text-align: left;'>2023-04-09</td><td style='text-align: left;'>13499</td></tr><tr><td style='text-align: left;'>18510</td><td style='text-align: left;'>None</td><td style='text-align: left;'>UVOT</td><td style='text-align: left;'>121.79008333333</td><td style='text-align: left;'>-5.6872</td><td style='text-align: left;'>0x30ed</td><td style='text-align: left;'>PC</td><td style='text-align: left;'>2023-03-01 12:26:36</td><td style='text-align: left;'>SHENG</td><td style='text-align: left;'>3</td><td style='text-align: left;'>2023-03-06</td><td style='text-align: left;'>2023-03-06</td><td style='text-align: left;'>10678</td></tr><tr><td style='text-align: left;'>18509</td><td style='text-align: left;'>None</td><td style='text-align: left;'>XRT</td><td style='text-align: left;'>195.698554</td><td style='text-align: left;'>-63.835732</td><td style='text-align: left;'>0x9999</td><td style='text-align: left;'>PC</td><td style='text-align: left;'>2023-03-01 11:39:50</td><td style='text-align: left;'>Chernyakova</td><td style='text-align: left;'>3</td><td style='text-align: left;'>2023-03-07</td><td style='text-align: left;'>2023-04-02</td><td style='text-align: left;'>30966</td></tr><tr><td style='text-align: left;'>18508</td><td style='text-align: left;'>None</td><td style='text-align: left;'>XRT</td><td style='text-align: left;'>98.247</td><td style='text-align: left;'>5.8004</td><td style='text-align: left;'>0x9999</td><td style='text-align: left;'>PC</td><td style='text-align: left;'>2023-03-01 11:32:51</td><td style='text-align: left;'>Falcone</td><td style='text-align: left;'>3</td><td style='text-align: left;'>2023-03-11</td><td style='text-align: left;'>2023-03-15</td><td style='text-align: left;'>15903</td></tr><tr><td style='text-align: left;'>18507</td><td style='text-align: left;'>None</td><td style='text-align: left;'>XRT</td><td style='text-align: left;'>321.90692215009</td><td style='text-align: left;'>33.273587275235</td><td style='text-align: left;'>0x011e</td><td style='text-align: left;'>PC</td><td style='text-align: left;'>2023-03-01 10:03:15</td><td style='text-align: left;'>Sbarufatti</td><td style='text-align: left;'>4</td><td style='text-align: left;'>2023-03-15</td><td style='text-align: left;'>2023-03-15</td><td style='text-align: left;'>15907</td></tr><tr><td style='text-align: left;'>18506</td><td style='text-align: left;'>None</td><td style='text-align: left;'>XRT</td><td style='text-align: left;'>198.37111365445</td><td style='text-align: left;'>41.86550325857</td><td style='text-align: left;'>0x011e</td><td style='text-align: left;'>PC</td><td style='text-align: left;'>2023-03-01 10:00:12</td><td style='text-align: left;'>Sbarufatti</td><td style='text-align: left;'>4</td><td style='text-align: left;'>2023-03-13</td><td style='text-align: left;'>2023-03-13</td><td style='text-align: left;'>15906</td></tr><tr><td style='text-align: left;'>18505</td><td style='text-align: left;'>None</td><td style='text-align: left;'>XRT</td><td style='text-align: left;'>277.93170388988</td><td style='text-align: left;'>-1.3164909020169</td><td style='text-align: left;'>0x011e</td><td style='text-align: left;'>PC</td><td style='text-align: left;'>2023-03-01 09:57:48</td><td style='text-align: left;'>Sbarufatti</td><td style='text-align: left;'>4</td><td style='text-align: left;'>2023-03-09</td><td style='text-align: left;'>2023-03-09</td><td style='text-align: left;'>15905</td></tr><tr><td style='text-align: left;'>18504</td><td style='text-align: left;'>None</td><td style='text-align: left;'>XRT</td><td style='text-align: left;'>185.05390849694</td><td style='text-align: left;'>58.688130008668</td><td style='text-align: left;'>0x011e</td><td style='text-align: left;'>PC</td><td style='text-align: left;'>2023-03-01 09:54:44</td><td style='text-align: left;'>Sbarufatti</td><td style='text-align: left;'>4</td><td style='text-align: left;'>2023-03-08</td><td style='text-align: left;'>2023-03-08</td><td style='text-align: left;'>15904</td></tr><tr><td style='text-align: left;'>18503</td><td style='text-align: left;'>None</td><td style='text-align: left;'>XRT</td><td style='text-align: left;'>193.498</td><td style='text-align: left;'>-40.99186</td><td style='text-align: left;'>0x9999</td><td style='text-align: left;'>PC</td><td style='text-align: left;'>2023-02-28 15:53:52</td><td style='text-align: left;'>Marcotulli</td><td style='text-align: left;'>3</td><td style='text-align: left;'>2023-03-03</td><td style='text-align: left;'>2023-03-04</td><td style='text-align: left;'>89473</td></tr><tr><td style='text-align: left;'>18502</td><td style='text-align: left;'>None</td><td style='text-align: left;'>UVOT</td><td style='text-align: left;'>71.3909</td><td style='text-align: left;'>-10.2013</td><td style='text-align: left;'>0x2049</td><td style='text-align: left;'>PC</td><td style='text-align: left;'>2023-02-28 14:28:08</td><td style='text-align: left;'>Liu</td><td style='text-align: left;'>3</td><td style='text-align: left;'>2023-03-06</td><td style='text-align: left;'>2023-04-17</td><td style='text-align: left;'>14840</td></tr><tr><td style='text-align: left;'>18501</td><td style='text-align: left;'>None</td><td style='text-align: left;'>XRT</td><td style='text-align: left;'>267.020833</td><td style='text-align: left;'>-24.78</td><td style='text-align: left;'>0x0377</td><td style='text-align: left;'>PC</td><td style='text-align: left;'>2023-02-28 05:41:39</td><td style='text-align: left;'>Kennea</td><td style='text-align: left;'>2</td><td style='text-align: left;'>2023-02-28</td><td style='text-align: left;'>2023-02-28</td><td style='text-align: left;'>15899</td></tr></table>"
      ],
      "text/plain": [
       "Swift_TOO_Requests(username='anonymous',limit='20',detail='False')"
      ]
     },
     "execution_count": 4,
     "metadata": {},
     "output_type": "execute_result"
    }
   ],
   "source": [
    "toos"
   ]
  },
  {
   "cell_type": "markdown",
   "id": "bc0d2511",
   "metadata": {},
   "source": [
    "We can also display all the information we obtained for each TOO request as follows, to display the first (and by default most recent) TOO in the list above, do the following."
   ]
  },
  {
   "cell_type": "code",
   "execution_count": 5,
   "id": "0cc82450",
   "metadata": {},
   "outputs": [
    {
     "data": {
      "text/html": [
       "<table><thead><th style='text-align: left;'>Parameter</th><th style='text-align: left;'>Value</th></thead><tr><td style='text-align: left;'>ToO ID</td><td style='text-align: left;'>18520</td></tr><tr><td style='text-align: left;'>Requester</td><td style='text-align: left;'>Tovmassian</td></tr><tr><td style='text-align: left;'>Time Submitted</td><td style='text-align: left;'>2023-03-06 01:31:51</td></tr><tr><td style='text-align: left;'>Urgency</td><td style='text-align: left;'>3</td></tr><tr><td style='text-align: left;'>Type or Classification</td><td style='text-align: left;'>Novalike</td></tr><tr><td style='text-align: left;'>Right Ascenscion (J2000)</td><td style='text-align: left;'>93.932991666667</td></tr><tr><td style='text-align: left;'>Declination (J2000)</td><td style='text-align: left;'>28.585715</td></tr><tr><td style='text-align: left;'>Position Error (90% confidence - arcminutes)</td><td style='text-align: left;'>0</td></tr><tr><td style='text-align: left;'>Exposure Time per Visit (s)</td><td style='text-align: left;'>1000</td></tr><tr><td style='text-align: left;'>Number of Visits</td><td style='text-align: left;'>1</td></tr><tr><td style='text-align: left;'>Total Exposure (s)</td><td style='text-align: left;'>1000</td></tr><tr><td style='text-align: left;'>Instrument</td><td style='text-align: left;'>UVOT</td></tr><tr><td style='text-align: left;'>XRT Mode (Approved)</td><td style='text-align: left;'>PC</td></tr><tr><td style='text-align: left;'>UVOT Mode (Approved)</td><td style='text-align: left;'>0x011e</td></tr><tr><td style='text-align: left;'>Primary Target ID</td><td style='text-align: left;'>38846</td></tr></table>"
      ],
      "text/plain": [
       "Swift_TOORequest(source_type='Novalike',ra='93.932991666667',dec='28.585715',poserr='0',instrument='UVOT',urgency='3',num_of_visits='1',xrt_mode='PC',uvot_mode='0x9999',obs_n='single',debug='False',quiet='False')"
      ]
     },
     "execution_count": 5,
     "metadata": {},
     "output_type": "execute_result"
    }
   ],
   "source": [
    "toos[1]"
   ]
  },
  {
   "cell_type": "markdown",
   "id": "7c79a94b",
   "metadata": {},
   "source": [
    "If you want to fetch the information for a given `too_id` value, you get use the `by_id` method. Here is an example:"
   ]
  },
  {
   "cell_type": "code",
   "execution_count": 6,
   "id": "ac475b10",
   "metadata": {},
   "outputs": [
    {
     "ename": "KeyError",
     "evalue": "17086",
     "output_type": "error",
     "traceback": [
      "\u001b[1;31m---------------------------------------------------------------------------\u001b[0m",
      "\u001b[1;31mKeyError\u001b[0m                                  Traceback (most recent call last)",
      "Cell \u001b[1;32mIn[6], line 1\u001b[0m\n\u001b[1;32m----> 1\u001b[0m toos\u001b[39m.\u001b[39;49mby_id(\u001b[39m17086\u001b[39;49m)\n",
      "File \u001b[1;32mc:\\Users\\stefa\\AppData\\Local\\Programs\\Python\\Python311\\Lib\\site-packages\\swifttools\\swift_too\\swift_requests.py:157\u001b[0m, in \u001b[0;36mSwift_TOO_Requests.by_id\u001b[1;34m(self, too_id)\u001b[0m\n\u001b[0;32m    144\u001b[0m \u001b[39mdef\u001b[39;00m \u001b[39mby_id\u001b[39m(\u001b[39mself\u001b[39m, too_id):\n\u001b[0;32m    145\u001b[0m \u001b[39m    \u001b[39m\u001b[39m\"\"\"Return Swift_TOO_Request object for a given too_id.\u001b[39;00m\n\u001b[0;32m    146\u001b[0m \n\u001b[0;32m    147\u001b[0m \u001b[39m    Parameters\u001b[39;00m\n\u001b[1;32m   (...)\u001b[0m\n\u001b[0;32m    155\u001b[0m \u001b[39m        TOO request matching the given too_id\u001b[39;00m\n\u001b[0;32m    156\u001b[0m \u001b[39m    \"\"\"\u001b[39;00m\n\u001b[1;32m--> 157\u001b[0m     \u001b[39mreturn\u001b[39;00m {t\u001b[39m.\u001b[39;49mtoo_id: t \u001b[39mfor\u001b[39;49;00m t \u001b[39min\u001b[39;49;00m \u001b[39mself\u001b[39;49m\u001b[39m.\u001b[39;49mentries}[too_id]\n",
      "\u001b[1;31mKeyError\u001b[0m: 17086"
     ]
    }
   ],
   "source": [
    "toos.by_id(17086)"
   ]
  },
  {
   "cell_type": "markdown",
   "id": "e27a7ce1",
   "metadata": {},
   "source": [
    "### Displaying the scheduling information for a TOO\n",
    "\n",
    "If you are interested to know when/if a TOO has been scheduled in the Swift Planning calendar, you can obtain this information by looking that the `calendar` attribute. This is an instance of the `Swift_Calendar` class. You can display it as follows."
   ]
  },
  {
   "cell_type": "code",
   "execution_count": null,
   "id": "8f309424",
   "metadata": {},
   "outputs": [
    {
     "data": {
      "text/html": [
       "<table><thead><th style='text-align: left;'>#</th><th style='text-align: left;'>Start</th><th style='text-align: left;'>Stop</th><th style='text-align: left;'>XRT Mode</th><th style='text-align: left;'>UVOT Mode</th><th style='text-align: left;'>Exposure (s)</th><th style='text-align: left;'>AFST (s)</th></thead><tr><td style='text-align: left;'>0</td><td style='text-align: left;'>2022-04-01 00:00:00</td><td style='text-align: left;'>2022-04-02 00:00:00</td><td style='text-align: left;'>PC</td><td style='text-align: left;'>0x015a</td><td style='text-align: left;'>3000</td><td style='text-align: left;'>0</td></tr><tr><td style='text-align: left;'>1</td><td style='text-align: left;'>2022-04-08 00:00:00</td><td style='text-align: left;'>2022-04-09 00:00:00</td><td style='text-align: left;'>PC</td><td style='text-align: left;'>0x015a</td><td style='text-align: left;'>3000</td><td style='text-align: left;'>0</td></tr><tr><td style='text-align: left;'>2</td><td style='text-align: left;'>2022-04-15 00:00:00</td><td style='text-align: left;'>2022-04-16 00:00:00</td><td style='text-align: left;'>PC</td><td style='text-align: left;'>0x015a</td><td style='text-align: left;'>3000</td><td style='text-align: left;'>0</td></tr></table>"
      ],
      "text/plain": [
       "Swift_Calendar(username='anonymous',too_id='17086')"
      ]
     },
     "execution_count": 7,
     "metadata": {},
     "output_type": "execute_result"
    }
   ],
   "source": [
    "toos.by_id(17086).calendar"
   ]
  },
  {
   "cell_type": "markdown",
   "id": "04590d3d",
   "metadata": {},
   "source": [
    "You can see here that the calendar has even more information about the TOO. This includes the start and end time of each window, the XRT and UVOT modes used, the requested exposure time per window, and the column **AFST** shows the amount of exposure time taken on that target during the window.\n",
    "\n",
    "Note that a window here is a period of time for which an observation is requested to occur. If the window is a day long, that typically means that the observation can be scheduled at any time during the day. Shorter windows with specific start and end times typically denotes a time constrained observation, e.g. an observation coordinated with another telescope, or an observation where obtaining an observation at a given orbital phase is requested.\n",
    "\n",
    "Note the AFST column is just a guide. It only shows observations taken with the window, so if an observation were taken the next day, or not completely in the window, it will not reflect the full observation time. In order to obtain information about Swift observations of any given Target, use a `Swift_ObsQuery`.\n",
    "\n",
    "### Public vs Private TOO Requests\n",
    "\n",
    "So far the information we have retrieved is what is available publically. This is limited for privacy reasons, but if you have submitted a TOO yourself, you can retrieve more information. To do this you need to provide your `username` and `shared_secret`. Note that if your computer supports Python's `keyring` module, for storing passwords, then your secret should already be stored if you've used it before to submit a TOO request. In this case you can just give your username."
   ]
  },
  {
   "cell_type": "code",
   "execution_count": null,
   "id": "ec27aeb4",
   "metadata": {},
   "outputs": [
    {
     "data": {
      "text/plain": [
       "True"
      ]
     },
     "execution_count": 10,
     "metadata": {},
     "output_type": "execute_result"
    }
   ],
   "source": [
    "mytoo = TOORequests()\n",
    "mytoo.username = \"myuser\"\n",
    "mytoo.shared_secret = 'my_shared_secret'\n",
    "mytoo.detail = True\n",
    "mytoo.too_id = 16832\n",
    "mytoo.submit()"
   ]
  },
  {
   "cell_type": "markdown",
   "id": "44ae7ce7",
   "metadata": {},
   "source": [
    "You can now look at the detailed information from your TOO request, including non-public information. The TOO request below was submitted by the author (Jamie Kennea), so this is what is presented here."
   ]
  },
  {
   "cell_type": "code",
   "execution_count": null,
   "id": "86aa8a79",
   "metadata": {},
   "outputs": [
    {
     "data": {
      "text/html": [
       "<table><thead><th style='text-align: left;'>Parameter</th><th style='text-align: left;'>Value</th></thead><tr><td style='text-align: left;'>ToO ID</td><td style='text-align: left;'>16832</td></tr><tr><td style='text-align: left;'>Requester</td><td style='text-align: left;'>Kennea</td></tr><tr><td style='text-align: left;'>Time Submitted</td><td style='text-align: left;'>2022-01-05 12:00:19</td></tr><tr><td style='text-align: left;'>Urgency</td><td style='text-align: left;'>2</td></tr><tr><td style='text-align: left;'>Object Name</td><td style='text-align: left;'>SXP 15.6</td></tr><tr><td style='text-align: left;'>Type or Classification</td><td style='text-align: left;'>Be Binary System</td></tr><tr><td style='text-align: left;'>Right Ascenscion (J2000)</td><td style='text-align: left;'>12.228890419006</td></tr><tr><td style='text-align: left;'>Declination (J2000)</td><td style='text-align: left;'>-73.829299926758</td></tr><tr><td style='text-align: left;'>Position Error (90% confidence - arcminutes)</td><td style='text-align: left;'>0</td></tr><tr><td style='text-align: left;'>Science Justification</td><td style='text-align: left;'>We wish to continue to monitor the brightness of SXP 15.6 in it's current outburst which was still ongoing as of Dec 30, . We request an initial observation ASAP, as the most recent observation with S-CUBED (Jan 4th) appeared to show a rebrightening. In addition we request resumption of monitoring until pole constraint.</td></tr><tr><td style='text-align: left;'>XRT Estimated Rate (c/s)</td><td style='text-align: left;'>0.15</td></tr><tr><td style='text-align: left;'>Exposure Time per Visit (s)</td><td style='text-align: left;'>2000</td></tr><tr><td style='text-align: left;'>Number of Visits</td><td style='text-align: left;'>4</td></tr><tr><td style='text-align: left;'>Total Exposure (s)</td><td style='text-align: left;'>8000</td></tr><tr><td style='text-align: left;'>Monitoring Cadence</td><td style='text-align: left;'>2 day</td></tr><tr><td style='text-align: left;'>Immediate Objective</td><td style='text-align: left;'>Continue to monitor the brightness of SXP 15.6. We request an initial observation ASAP.</td></tr><tr><td style='text-align: left;'>Exposure Time Justification</td><td style='text-align: left;'>2ks allows for accurate measurement of flux and spectrum.</td></tr><tr><td style='text-align: left;'>Instrument</td><td style='text-align: left;'>XRT</td></tr><tr><td style='text-align: left;'>What is Driving the Exposure Time?</td><td style='text-align: left;'>Light Curve</td></tr><tr><td style='text-align: left;'>XRT Mode (Approved)</td><td style='text-align: left;'>PC</td></tr><tr><td style='text-align: left;'>UVOT Mode (Approved)</td><td style='text-align: left;'>0x9999</td></tr><tr><td style='text-align: left;'>Primary Target ID</td><td style='text-align: left;'>34599</td></tr></table>"
      ],
      "text/plain": [
       "Swift_TOO_Request(username='myuser',source_name='SXP 15.6',source_type='Be Binary System',ra='12.228890419006',dec='-73.829299926758',poserr='0',instrument='XRT',urgency='2',xrt_countrate='0.15',immediate_objective='Continue to monitor the brightness of SXP 15.6. We request an initial observation ASAP.',science_just='We wish to continue to monitor the brightness of SXP 15.6 in it's current outburst which was still ongoing as of Dec 30, . We request an initial observation ASAP, as the most recent observation with S-CUBED (Jan 4th) appeared to show a rebrightening. In addition we request resumption of monitoring until pole constraint.',exp_time_just='2ks allows for accurate measurement of flux and spectrum.',num_of_visits='1',monitoring_freq='2 day',proposal='no',xrt_mode='PC',uvot_mode='0x9999',uvot_just='',tiling='No',number_of_tiles='None',obs_n='single',obs_type='Light Curve',debug='False')"
      ]
     },
     "execution_count": 11,
     "metadata": {},
     "output_type": "execute_result"
    }
   ],
   "source": [
    "mytoo[0]"
   ]
  },
  {
   "cell_type": "markdown",
   "id": "401e5de4",
   "metadata": {},
   "source": [
    "Also the calendar for this TOO, including what was observed vs what was planned. "
   ]
  },
  {
   "cell_type": "code",
   "execution_count": null,
   "id": "c214664f",
   "metadata": {},
   "outputs": [
    {
     "data": {
      "text/html": [
       "<table><thead><th style='text-align: left;'>#</th><th style='text-align: left;'>Start</th><th style='text-align: left;'>Stop</th><th style='text-align: left;'>XRT Mode</th><th style='text-align: left;'>UVOT Mode</th><th style='text-align: left;'>Exposure (s)</th><th style='text-align: left;'>AFST (s)</th></thead><tr><td style='text-align: left;'>0</td><td style='text-align: left;'>2022-01-05 00:00:00</td><td style='text-align: left;'>2022-01-06 00:00:00</td><td style='text-align: left;'>PC</td><td style='text-align: left;'>0x9999</td><td style='text-align: left;'>2000</td><td style='text-align: left;'>1995.0</td></tr><tr><td style='text-align: left;'>1</td><td style='text-align: left;'>2022-01-07 00:00:00</td><td style='text-align: left;'>2022-01-08 00:00:00</td><td style='text-align: left;'>PC</td><td style='text-align: left;'>0x9999</td><td style='text-align: left;'>2000</td><td style='text-align: left;'>2265.0</td></tr><tr><td style='text-align: left;'>2</td><td style='text-align: left;'>2022-01-09 00:00:00</td><td style='text-align: left;'>2022-01-10 00:00:00</td><td style='text-align: left;'>PC</td><td style='text-align: left;'>0x9999</td><td style='text-align: left;'>2000</td><td style='text-align: left;'>1960.0</td></tr><tr><td style='text-align: left;'>3</td><td style='text-align: left;'>2022-01-11 00:00:00</td><td style='text-align: left;'>2022-01-12 00:00:00</td><td style='text-align: left;'>PC</td><td style='text-align: left;'>0x9999</td><td style='text-align: left;'>2000</td><td style='text-align: left;'>1359.0</td></tr></table>"
      ],
      "text/plain": [
       "Swift_Calendar(username='anonymous',too_id='16832')"
      ]
     },
     "execution_count": 12,
     "metadata": {},
     "output_type": "execute_result"
    }
   ],
   "source": [
    "mytoo[0].calendar"
   ]
  },
  {
   "cell_type": "code",
   "execution_count": null,
   "id": "57e5f1cb",
   "metadata": {},
   "outputs": [],
   "source": []
  }
 ],
 "metadata": {
  "kernelspec": {
   "display_name": "Python 3",
   "language": "python",
   "name": "python3"
  },
  "language_info": {
   "codemirror_mode": {
    "name": "ipython",
    "version": 3
   },
   "file_extension": ".py",
   "mimetype": "text/x-python",
   "name": "python",
   "nbconvert_exporter": "python",
   "pygments_lexer": "ipython3",
   "version": "3.11.0"
  },
  "vscode": {
   "interpreter": {
    "hash": "4fe912ff22c49d68256bc00c53cb9ca93e51b3f7ad5839bda484e18b40e62e3e"
   }
  }
 },
 "nbformat": 4,
 "nbformat_minor": 5
}
